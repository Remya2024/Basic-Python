{
 "cells": [
  {
   "cell_type": "code",
   "execution_count": 1,
   "id": "3fff233b-c440-4ddd-bdc3-6c6a7b68686d",
   "metadata": {},
   "outputs": [
    {
     "name": "stdin",
     "output_type": "stream",
     "text": [
      "enter the numerator 9\n",
      "enter the denominator 0\n"
     ]
    }
   ],
   "source": [
    "a = int(input(\"enter the numerator\"))\n",
    "b = int(input(\"enter the denominator\"))"
   ]
  },
  {
   "cell_type": "code",
   "execution_count": 2,
   "id": "19ae3ba0-e2d1-4928-b33f-5f36900f488c",
   "metadata": {},
   "outputs": [
    {
     "name": "stdout",
     "output_type": "stream",
     "text": [
      "You have entered 0 as denomination... please change\n",
      "Check the result\n"
     ]
    }
   ],
   "source": [
    "try:\n",
    "    result = a/b\n",
    "except ZeroDivisionError:\n",
    "    print(\"You have entered 0 as denomination... please change\")\n",
    "else:\n",
    "    print(\"Result is :\", result)\n",
    "finally:\n",
    "    print(\"Check the result\")"
   ]
  },
  {
   "cell_type": "code",
   "execution_count": 10,
   "id": "719304f5-348e-4cc5-a93b-4a62ecd6bb18",
   "metadata": {},
   "outputs": [
    {
     "name": "stdout",
     "output_type": "stream",
     "text": [
      "You have entered 0 as denomination... please change\n"
     ]
    }
   ],
   "source": [
    "try:\n",
    "    result = 10/0\n",
    "except TypeError:\n",
    "    print(\"Things of different types can't be added together\")\n",
    "except ZeroDivisionError:\n",
    "    print(\"You have entered 0 as denomination... please change\")\n",
    "else:\n",
    "    print(\"Result is :\", result)"
   ]
  },
  {
   "cell_type": "code",
   "execution_count": 17,
   "id": "3e148cc7-b00c-4f2c-aeb2-5d51e275ffbf",
   "metadata": {},
   "outputs": [
    {
     "name": "stdout",
     "output_type": "stream",
     "text": [
      "KeyError appeared.... the key is not found in the dictionary\n"
     ]
    }
   ],
   "source": [
    "d1 = {\"a\":1,\"b\":2}\n",
    "\n",
    "try:\n",
    "    r = d1[\"\"]\n",
    "except:\n",
    "    print(\"KeyError appeared.... the key is not found in the dictionary\")\n",
    "else:\n",
    "    print(\"Result is :\", r)"
   ]
  },
  {
   "cell_type": "code",
   "execution_count": 22,
   "id": "9371de4f-baf6-4a92-b48e-66ab1adb581f",
   "metadata": {},
   "outputs": [
    {
     "name": "stdout",
     "output_type": "stream",
     "text": [
      "Error appeared:unsupported operand type(s) for +: 'int' and 'list'\n"
     ]
    }
   ],
   "source": [
    "d1 = {\"a\":1,\"b\":2}\n",
    "\n",
    "try:\n",
    "    r = 2+[2,4]\n",
    "except Exception as e:\n",
    "    print(f\"Error appeared:{e}\")\n",
    "else:\n",
    "    print(\"Result is :\", r)"
   ]
  },
  {
   "cell_type": "markdown",
   "id": "0867ab3b-913b-48a0-82d6-9b21a827b1df",
   "metadata": {},
   "source": [
    "# File Operations"
   ]
  },
  {
   "cell_type": "code",
   "execution_count": 24,
   "id": "2cc2aecc-5bc1-48da-b65d-96fb366e4e65",
   "metadata": {},
   "outputs": [],
   "source": [
    "f = open(\"text.txt\")"
   ]
  },
  {
   "cell_type": "code",
   "execution_count": 25,
   "id": "5b8757f6-7591-4bd2-9334-f9ee4e616791",
   "metadata": {},
   "outputs": [
    {
     "data": {
      "text/plain": [
       "_io.TextIOWrapper"
      ]
     },
     "execution_count": 25,
     "metadata": {},
     "output_type": "execute_result"
    }
   ],
   "source": [
    "type(f)"
   ]
  },
  {
   "cell_type": "code",
   "execution_count": 26,
   "id": "34602a57-f5cc-4e6a-a132-4b8921c116b2",
   "metadata": {},
   "outputs": [],
   "source": [
    "f.close()"
   ]
  },
  {
   "cell_type": "code",
   "execution_count": 1,
   "id": "de236cf7-63dc-4671-bbb4-18ff9a5e15d5",
   "metadata": {},
   "outputs": [],
   "source": [
    "f = open(\"text.txt\")"
   ]
  },
  {
   "cell_type": "code",
   "execution_count": 2,
   "id": "76688ff8-8115-4be9-ae0a-032b3524ba14",
   "metadata": {},
   "outputs": [
    {
     "data": {
      "text/plain": [
       "'File Handling Operation'"
      ]
     },
     "execution_count": 2,
     "metadata": {},
     "output_type": "execute_result"
    }
   ],
   "source": [
    "f.read()"
   ]
  },
  {
   "cell_type": "code",
   "execution_count": 3,
   "id": "5b544c57-8fcb-4019-aa9c-e894ac180ab2",
   "metadata": {},
   "outputs": [
    {
     "data": {
      "text/plain": [
       "''"
      ]
     },
     "execution_count": 3,
     "metadata": {},
     "output_type": "execute_result"
    }
   ],
   "source": [
    "f.read(8)"
   ]
  },
  {
   "cell_type": "code",
   "execution_count": 4,
   "id": "40813ddc-1d8f-4320-9872-87dcc1882ef4",
   "metadata": {},
   "outputs": [
    {
     "data": {
      "text/plain": [
       "23"
      ]
     },
     "execution_count": 4,
     "metadata": {},
     "output_type": "execute_result"
    }
   ],
   "source": [
    "f.tell()"
   ]
  },
  {
   "cell_type": "code",
   "execution_count": null,
   "id": "ccf5df70-6795-4951-b574-e4ea48f0def5",
   "metadata": {},
   "outputs": [],
   "source": []
  },
  {
   "cell_type": "code",
   "execution_count": 8,
   "id": "f1959fb2-c9fa-42e0-aa75-511f2e2d7886",
   "metadata": {},
   "outputs": [],
   "source": [
    "data = \"first line written\"\n",
    "f = open(\"test1.txt\",\"w\")\n",
    "f.write(data)\n",
    "f.close()"
   ]
  },
  {
   "cell_type": "code",
   "execution_count": 9,
   "id": "26b6ed1c-551c-41a7-965f-47106789fb7e",
   "metadata": {},
   "outputs": [],
   "source": [
    "with open(\"text2.txt\",\"w\") as f:\n",
    "    f.write(\"first line\\n\")\n",
    "    f.write(\"second line\\n\")\n",
    "    f.write(\"third line\\n\")\n",
    "    f.write(\"fourth line\\n\")\n",
    "    f.write(\"fifth line\\n\")"
   ]
  },
  {
   "cell_type": "code",
   "execution_count": 14,
   "id": "a9f3761c-3b32-47ea-85ef-165ceb908074",
   "metadata": {},
   "outputs": [
    {
     "data": {
      "text/plain": [
       "['first line\\n']"
      ]
     },
     "execution_count": 14,
     "metadata": {},
     "output_type": "execute_result"
    }
   ],
   "source": [
    "f = open(\"text2.txt\")\n",
    "f.readlines(1)"
   ]
  },
  {
   "cell_type": "code",
   "execution_count": 15,
   "id": "d7a6c54e-4c27-47ca-9151-9b1ba0388086",
   "metadata": {},
   "outputs": [
    {
     "data": {
      "text/plain": [
       "['second line\\n']"
      ]
     },
     "execution_count": 15,
     "metadata": {},
     "output_type": "execute_result"
    }
   ],
   "source": [
    "f.readlines(2)"
   ]
  },
  {
   "cell_type": "code",
   "execution_count": 16,
   "id": "48eb453c-37df-4d5d-8678-e99fc55dfdf8",
   "metadata": {},
   "outputs": [
    {
     "data": {
      "text/plain": [
       "['third line\\n']"
      ]
     },
     "execution_count": 16,
     "metadata": {},
     "output_type": "execute_result"
    }
   ],
   "source": [
    "f.readlines(3)"
   ]
  },
  {
   "cell_type": "code",
   "execution_count": 17,
   "id": "6eef0412-af12-4f38-9148-b01c9d5418b6",
   "metadata": {},
   "outputs": [
    {
     "data": {
      "text/plain": [
       "['fourth line\\n']"
      ]
     },
     "execution_count": 17,
     "metadata": {},
     "output_type": "execute_result"
    }
   ],
   "source": [
    "f.readlines(4)"
   ]
  },
  {
   "cell_type": "code",
   "execution_count": 18,
   "id": "c6588ca1-1ae4-44d5-b4bf-c6a1eeacb6cd",
   "metadata": {},
   "outputs": [
    {
     "data": {
      "text/plain": [
       "['fifth line\\n']"
      ]
     },
     "execution_count": 18,
     "metadata": {},
     "output_type": "execute_result"
    }
   ],
   "source": [
    "f.readlines(5)"
   ]
  },
  {
   "cell_type": "code",
   "execution_count": 10,
   "id": "37065ea4-3de6-4f18-a4ef-9ebbeb5f872c",
   "metadata": {},
   "outputs": [
    {
     "name": "stdout",
     "output_type": "stream",
     "text": [
      "file got opened\n"
     ]
    }
   ],
   "source": [
    "try:\n",
    "    with open(\"text2.txt\",\"r\") as file:\n",
    "        content = file.read()\n",
    "except FileNotFoundError:\n",
    "    print(\"Error: File not found !\")\n",
    "else:\n",
    "    print(\"file got opened\")\n",
    "    "
   ]
  },
  {
   "cell_type": "code",
   "execution_count": 11,
   "id": "bd3ba450-1bcd-47b4-9e85-4680e4cac54d",
   "metadata": {},
   "outputs": [
    {
     "data": {
      "text/plain": [
       "'first line\\nsecond line\\nthird line\\nfourth line\\nfifth line\\n'"
      ]
     },
     "execution_count": 11,
     "metadata": {},
     "output_type": "execute_result"
    }
   ],
   "source": [
    "content"
   ]
  },
  {
   "cell_type": "code",
   "execution_count": null,
   "id": "beb393dd-7ab2-4c79-889b-fca0e3d75337",
   "metadata": {},
   "outputs": [],
   "source": []
  },
  {
   "cell_type": "code",
   "execution_count": 3,
   "id": "c599346f-bc7c-4513-baea-6e4dd8d37042",
   "metadata": {},
   "outputs": [
    {
     "name": "stdout",
     "output_type": "stream",
     "text": [
      "Python Class\n"
     ]
    }
   ],
   "source": [
    "print(\"Python Class\")"
   ]
  },
  {
   "cell_type": "code",
   "execution_count": 4,
   "id": "dcb2b7f0-f48a-4d78-bcc8-1334c4168a34",
   "metadata": {},
   "outputs": [
    {
     "name": "stdout",
     "output_type": "stream",
     "text": [
      "Hello\n"
     ]
    }
   ],
   "source": [
    "print(\"Hello\")"
   ]
  },
  {
   "cell_type": "code",
   "execution_count": null,
   "id": "e6ace672-cb5d-4a95-a9d6-8bcabc4d1b4f",
   "metadata": {},
   "outputs": [],
   "source": []
  }
 ],
 "metadata": {
  "kernelspec": {
   "display_name": "Python 3 (ipykernel)",
   "language": "python",
   "name": "python3"
  },
  "language_info": {
   "codemirror_mode": {
    "name": "ipython",
    "version": 3
   },
   "file_extension": ".py",
   "mimetype": "text/x-python",
   "name": "python",
   "nbconvert_exporter": "python",
   "pygments_lexer": "ipython3",
   "version": "3.9.0"
  }
 },
 "nbformat": 4,
 "nbformat_minor": 5
}
