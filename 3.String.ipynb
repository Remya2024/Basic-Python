{
 "cells": [
  {
   "cell_type": "code",
   "execution_count": 3,
   "id": "2dadf9a6-73a4-4a58-99e9-1aa00eca0017",
   "metadata": {},
   "outputs": [],
   "source": [
    "s = \"Kalam\""
   ]
  },
  {
   "cell_type": "code",
   "execution_count": 4,
   "id": "5014fc8f-ac9f-4958-958a-804d46c71de0",
   "metadata": {},
   "outputs": [
    {
     "data": {
      "text/plain": [
       "'Kalam'"
      ]
     },
     "execution_count": 4,
     "metadata": {},
     "output_type": "execute_result"
    }
   ],
   "source": [
    "s"
   ]
  },
  {
   "cell_type": "code",
   "execution_count": 5,
   "id": "1a6c1b06-7c08-4273-9d7c-220195831437",
   "metadata": {},
   "outputs": [
    {
     "data": {
      "text/plain": [
       "'K'"
      ]
     },
     "execution_count": 5,
     "metadata": {},
     "output_type": "execute_result"
    }
   ],
   "source": [
    "s[0]"
   ]
  },
  {
   "cell_type": "code",
   "execution_count": 6,
   "id": "8ee5d2cc-9f0c-416c-a280-b805018cd768",
   "metadata": {},
   "outputs": [
    {
     "data": {
      "text/plain": [
       "'a'"
      ]
     },
     "execution_count": 6,
     "metadata": {},
     "output_type": "execute_result"
    }
   ],
   "source": [
    "s[1]"
   ]
  },
  {
   "cell_type": "code",
   "execution_count": 7,
   "id": "07f86bc5-086e-49be-aa3c-858f50daffb0",
   "metadata": {},
   "outputs": [
    {
     "ename": "TypeError",
     "evalue": "'str' object does not support item assignment",
     "output_type": "error",
     "traceback": [
      "\u001b[1;31m---------------------------------------------------------------------------\u001b[0m",
      "\u001b[1;31mTypeError\u001b[0m                                 Traceback (most recent call last)",
      "Cell \u001b[1;32mIn[7], line 1\u001b[0m\n\u001b[1;32m----> 1\u001b[0m \u001b[43ms\u001b[49m\u001b[43m[\u001b[49m\u001b[38;5;241;43m0\u001b[39;49m\u001b[43m]\u001b[49m\u001b[38;5;241m=\u001b[39m\u001b[38;5;124m\"\u001b[39m\u001b[38;5;124mA\u001b[39m\u001b[38;5;124m\"\u001b[39m\n",
      "\u001b[1;31mTypeError\u001b[0m: 'str' object does not support item assignment"
     ]
    }
   ],
   "source": [
    "s[0]=\"A\""
   ]
  },
  {
   "cell_type": "code",
   "execution_count": 8,
   "id": "29b1052f-bbd3-4565-bbf4-c773f855bafe",
   "metadata": {},
   "outputs": [
    {
     "data": {
      "text/plain": [
       "'Aalam'"
      ]
     },
     "execution_count": 8,
     "metadata": {},
     "output_type": "execute_result"
    }
   ],
   "source": [
    "s = \"Aalam\"\n",
    "s"
   ]
  },
  {
   "cell_type": "code",
   "execution_count": 9,
   "id": "fcb84651-5009-48d1-b1eb-e825eb5a2299",
   "metadata": {},
   "outputs": [
    {
     "data": {
      "text/plain": [
       "'Dr. APJ Abdul Kalam'"
      ]
     },
     "execution_count": 9,
     "metadata": {},
     "output_type": "execute_result"
    }
   ],
   "source": [
    "s = \"Dr. APJ Abdul Kalam\"\n",
    "s"
   ]
  },
  {
   "cell_type": "code",
   "execution_count": 10,
   "id": "a4e1f770-04b7-4bac-bc8d-8b2f21a7d142",
   "metadata": {},
   "outputs": [
    {
     "data": {
      "text/plain": [
       "'HELLO'"
      ]
     },
     "execution_count": 10,
     "metadata": {},
     "output_type": "execute_result"
    }
   ],
   "source": [
    "x = \"HELLO\"\n",
    "x"
   ]
  },
  {
   "cell_type": "markdown",
   "id": "fa788ea7-2221-46ef-8c26-bf9cd5c7bf78",
   "metadata": {},
   "source": [
    "# Indexing"
   ]
  },
  {
   "cell_type": "markdown",
   "id": "9befcee0-9bf4-49d7-a4dd-d9ac6e142990",
   "metadata": {},
   "source": [
    "### Positive Indexing"
   ]
  },
  {
   "cell_type": "code",
   "execution_count": 11,
   "id": "4dfad28f-928f-4022-a6d1-6c29597648d5",
   "metadata": {},
   "outputs": [
    {
     "data": {
      "text/plain": [
       "'H'"
      ]
     },
     "execution_count": 11,
     "metadata": {},
     "output_type": "execute_result"
    }
   ],
   "source": [
    "x[0]"
   ]
  },
  {
   "cell_type": "code",
   "execution_count": 12,
   "id": "a4860ea5-4aef-487c-ac3b-80b059b4447a",
   "metadata": {},
   "outputs": [
    {
     "data": {
      "text/plain": [
       "'E'"
      ]
     },
     "execution_count": 12,
     "metadata": {},
     "output_type": "execute_result"
    }
   ],
   "source": [
    "x[1]"
   ]
  },
  {
   "cell_type": "code",
   "execution_count": 13,
   "id": "97cf892f-b3bb-494f-8da9-28e2e959b9d3",
   "metadata": {},
   "outputs": [
    {
     "data": {
      "text/plain": [
       "'L'"
      ]
     },
     "execution_count": 13,
     "metadata": {},
     "output_type": "execute_result"
    }
   ],
   "source": [
    "x[2]"
   ]
  },
  {
   "cell_type": "code",
   "execution_count": 14,
   "id": "ddfbfeeb-bd3b-4671-92f5-33a35c1026fd",
   "metadata": {},
   "outputs": [
    {
     "data": {
      "text/plain": [
       "'L'"
      ]
     },
     "execution_count": 14,
     "metadata": {},
     "output_type": "execute_result"
    }
   ],
   "source": [
    "x[3]"
   ]
  },
  {
   "cell_type": "code",
   "execution_count": 15,
   "id": "7f28394f-fcee-41ab-9522-9943f3960a60",
   "metadata": {},
   "outputs": [
    {
     "data": {
      "text/plain": [
       "'O'"
      ]
     },
     "execution_count": 15,
     "metadata": {},
     "output_type": "execute_result"
    }
   ],
   "source": [
    "x[4]"
   ]
  },
  {
   "cell_type": "code",
   "execution_count": 16,
   "id": "8b8c3e16-ded7-488c-97e2-6cd600f282de",
   "metadata": {},
   "outputs": [
    {
     "ename": "IndexError",
     "evalue": "string index out of range",
     "output_type": "error",
     "traceback": [
      "\u001b[1;31m---------------------------------------------------------------------------\u001b[0m",
      "\u001b[1;31mIndexError\u001b[0m                                Traceback (most recent call last)",
      "Cell \u001b[1;32mIn[16], line 1\u001b[0m\n\u001b[1;32m----> 1\u001b[0m \u001b[43mx\u001b[49m\u001b[43m[\u001b[49m\u001b[38;5;241;43m5\u001b[39;49m\u001b[43m]\u001b[49m\n",
      "\u001b[1;31mIndexError\u001b[0m: string index out of range"
     ]
    }
   ],
   "source": [
    "x[5]"
   ]
  },
  {
   "cell_type": "markdown",
   "id": "bd14dcb4-29de-4f8e-b8d0-8862fe6250f0",
   "metadata": {},
   "source": [
    "### Negative Indexing"
   ]
  },
  {
   "cell_type": "code",
   "execution_count": 17,
   "id": "ebd2d896-7114-41c3-8294-c23de8ae0051",
   "metadata": {},
   "outputs": [
    {
     "data": {
      "text/plain": [
       "'O'"
      ]
     },
     "execution_count": 17,
     "metadata": {},
     "output_type": "execute_result"
    }
   ],
   "source": [
    "x[-1]"
   ]
  },
  {
   "cell_type": "code",
   "execution_count": 18,
   "id": "7c38b735-f296-49be-be4c-4b94986473bf",
   "metadata": {},
   "outputs": [
    {
     "data": {
      "text/plain": [
       "'L'"
      ]
     },
     "execution_count": 18,
     "metadata": {},
     "output_type": "execute_result"
    }
   ],
   "source": [
    "x[-2]"
   ]
  },
  {
   "cell_type": "code",
   "execution_count": 19,
   "id": "a853b4b6-6d6d-48b8-9617-e690c8e70d01",
   "metadata": {},
   "outputs": [
    {
     "data": {
      "text/plain": [
       "'L'"
      ]
     },
     "execution_count": 19,
     "metadata": {},
     "output_type": "execute_result"
    }
   ],
   "source": [
    "x[-3]"
   ]
  },
  {
   "cell_type": "code",
   "execution_count": 20,
   "id": "b131026b-753b-48b8-adf4-54bee974cc97",
   "metadata": {},
   "outputs": [
    {
     "data": {
      "text/plain": [
       "'E'"
      ]
     },
     "execution_count": 20,
     "metadata": {},
     "output_type": "execute_result"
    }
   ],
   "source": [
    "x[-4]"
   ]
  },
  {
   "cell_type": "code",
   "execution_count": 21,
   "id": "0c1bbea9-ec7b-4c9c-ba69-41050b88d728",
   "metadata": {},
   "outputs": [
    {
     "data": {
      "text/plain": [
       "'H'"
      ]
     },
     "execution_count": 21,
     "metadata": {},
     "output_type": "execute_result"
    }
   ],
   "source": [
    "x[-5]"
   ]
  },
  {
   "cell_type": "code",
   "execution_count": 22,
   "id": "7b52f019-2d2c-447a-a850-d3355655419d",
   "metadata": {},
   "outputs": [
    {
     "ename": "IndexError",
     "evalue": "string index out of range",
     "output_type": "error",
     "traceback": [
      "\u001b[1;31m---------------------------------------------------------------------------\u001b[0m",
      "\u001b[1;31mIndexError\u001b[0m                                Traceback (most recent call last)",
      "Cell \u001b[1;32mIn[22], line 1\u001b[0m\n\u001b[1;32m----> 1\u001b[0m \u001b[43mx\u001b[49m\u001b[43m[\u001b[49m\u001b[38;5;241;43m-\u001b[39;49m\u001b[38;5;241;43m6\u001b[39;49m\u001b[43m]\u001b[49m\n",
      "\u001b[1;31mIndexError\u001b[0m: string index out of range"
     ]
    }
   ],
   "source": [
    "x[-6]"
   ]
  },
  {
   "cell_type": "markdown",
   "id": "e758ffc6-111e-49b8-b8bb-acc9505be744",
   "metadata": {},
   "source": [
    "# Slicing"
   ]
  },
  {
   "cell_type": "code",
   "execution_count": 23,
   "id": "5fab79b9-2f9a-4e3f-bf08-221fdcf55fac",
   "metadata": {},
   "outputs": [
    {
     "data": {
      "text/plain": [
       "'HELLO'"
      ]
     },
     "execution_count": 23,
     "metadata": {},
     "output_type": "execute_result"
    }
   ],
   "source": [
    "x"
   ]
  },
  {
   "cell_type": "code",
   "execution_count": 24,
   "id": "d9bc0fbf-3633-4402-a3b3-9a7133ab9cd1",
   "metadata": {},
   "outputs": [
    {
     "data": {
      "text/plain": [
       "'LL'"
      ]
     },
     "execution_count": 24,
     "metadata": {},
     "output_type": "execute_result"
    }
   ],
   "source": [
    "x[2:4]"
   ]
  },
  {
   "cell_type": "code",
   "execution_count": 25,
   "id": "5da6a01d-ab12-4fba-aaaf-40cf58a8e525",
   "metadata": {},
   "outputs": [
    {
     "data": {
      "text/plain": [
       "'EL'"
      ]
     },
     "execution_count": 25,
     "metadata": {},
     "output_type": "execute_result"
    }
   ],
   "source": [
    "x[1:3]"
   ]
  },
  {
   "cell_type": "code",
   "execution_count": 26,
   "id": "05c96dc6-c55f-4703-b0ad-66fa0b6db311",
   "metadata": {},
   "outputs": [
    {
     "data": {
      "text/plain": [
       "'HE'"
      ]
     },
     "execution_count": 26,
     "metadata": {},
     "output_type": "execute_result"
    }
   ],
   "source": [
    "x[0:2]"
   ]
  },
  {
   "cell_type": "code",
   "execution_count": 27,
   "id": "5eaa7642-40c9-4008-a40d-e1fee5265f98",
   "metadata": {},
   "outputs": [
    {
     "data": {
      "text/plain": [
       "'OLLEH'"
      ]
     },
     "execution_count": 27,
     "metadata": {},
     "output_type": "execute_result"
    }
   ],
   "source": [
    "x[::-1]"
   ]
  },
  {
   "cell_type": "code",
   "execution_count": null,
   "id": "436158b2-6dad-4220-ae32-765781d33866",
   "metadata": {},
   "outputs": [],
   "source": [
    "# start:stop:step"
   ]
  },
  {
   "cell_type": "markdown",
   "id": "b0f41873-47f0-4ab1-ba9a-166d2c79c9bb",
   "metadata": {},
   "source": [
    "# Using Operators"
   ]
  },
  {
   "cell_type": "code",
   "execution_count": 28,
   "id": "b9691a4f-3714-463c-a47a-0ac716139bf6",
   "metadata": {},
   "outputs": [
    {
     "data": {
      "text/plain": [
       "14"
      ]
     },
     "execution_count": 28,
     "metadata": {},
     "output_type": "execute_result"
    }
   ],
   "source": [
    "9+5"
   ]
  },
  {
   "cell_type": "code",
   "execution_count": 30,
   "id": "81e6904c-de7d-45b1-924b-d90c6eca0e89",
   "metadata": {},
   "outputs": [
    {
     "data": {
      "text/plain": [
       "'Hello Python'"
      ]
     },
     "execution_count": 30,
     "metadata": {},
     "output_type": "execute_result"
    }
   ],
   "source": [
    "\"Hello\" + \" Python\""
   ]
  },
  {
   "cell_type": "code",
   "execution_count": 31,
   "id": "d5c40bde-89dc-4d94-96a4-e7256e624538",
   "metadata": {},
   "outputs": [
    {
     "data": {
      "text/plain": [
       "36"
      ]
     },
     "execution_count": 31,
     "metadata": {},
     "output_type": "execute_result"
    }
   ],
   "source": [
    "9*4"
   ]
  },
  {
   "cell_type": "code",
   "execution_count": 32,
   "id": "2d34b61b-929d-4a68-83a9-b38e2e4f6ff4",
   "metadata": {},
   "outputs": [
    {
     "ename": "TypeError",
     "evalue": "can't multiply sequence by non-int of type 'str'",
     "output_type": "error",
     "traceback": [
      "\u001b[1;31m---------------------------------------------------------------------------\u001b[0m",
      "\u001b[1;31mTypeError\u001b[0m                                 Traceback (most recent call last)",
      "Cell \u001b[1;32mIn[32], line 1\u001b[0m\n\u001b[1;32m----> 1\u001b[0m \u001b[38;5;124;43m\"\u001b[39;49m\u001b[38;5;124;43mHello\u001b[39;49m\u001b[38;5;124;43m\"\u001b[39;49m\u001b[43m \u001b[49m\u001b[38;5;241;43m*\u001b[39;49m\u001b[43m \u001b[49m\u001b[38;5;124;43m\"\u001b[39;49m\u001b[38;5;124;43m Python\u001b[39;49m\u001b[38;5;124;43m\"\u001b[39;49m\n",
      "\u001b[1;31mTypeError\u001b[0m: can't multiply sequence by non-int of type 'str'"
     ]
    }
   ],
   "source": [
    "\"Hello\" * \" Python\""
   ]
  },
  {
   "cell_type": "code",
   "execution_count": 33,
   "id": "b4c4de27-ba89-460b-9e5c-b93329def65c",
   "metadata": {},
   "outputs": [
    {
     "data": {
      "text/plain": [
       "'HelloHelloHelloHello'"
      ]
     },
     "execution_count": 33,
     "metadata": {},
     "output_type": "execute_result"
    }
   ],
   "source": [
    "\"Hello\" * 4"
   ]
  },
  {
   "cell_type": "code",
   "execution_count": 34,
   "id": "ce05db63-8e39-4024-be0b-c43608901ea8",
   "metadata": {},
   "outputs": [
    {
     "data": {
      "text/plain": [
       "'HELLO'"
      ]
     },
     "execution_count": 34,
     "metadata": {},
     "output_type": "execute_result"
    }
   ],
   "source": [
    "x"
   ]
  },
  {
   "cell_type": "code",
   "execution_count": 36,
   "id": "7207acbc-8598-449a-99b8-ed7e612269c6",
   "metadata": {},
   "outputs": [
    {
     "data": {
      "text/plain": [
       "'HELLO'"
      ]
     },
     "execution_count": 36,
     "metadata": {},
     "output_type": "execute_result"
    }
   ],
   "source": [
    "x[:]"
   ]
  },
  {
   "cell_type": "code",
   "execution_count": 37,
   "id": "7634459c-71ad-4489-b6c8-0669d276008f",
   "metadata": {},
   "outputs": [],
   "source": [
    "y = \"Dr APJ Abdul Kalam\""
   ]
  },
  {
   "cell_type": "code",
   "execution_count": 38,
   "id": "440573b3-f339-4cfe-82b9-8f374b014595",
   "metadata": {},
   "outputs": [
    {
     "data": {
      "text/plain": [
       "True"
      ]
     },
     "execution_count": 38,
     "metadata": {},
     "output_type": "execute_result"
    }
   ],
   "source": [
    "\"Dr\" in y"
   ]
  },
  {
   "cell_type": "code",
   "execution_count": 40,
   "id": "9bbba0ac-f898-4a69-a766-7ce25f6b0659",
   "metadata": {},
   "outputs": [
    {
     "data": {
      "text/plain": [
       "False"
      ]
     },
     "execution_count": 40,
     "metadata": {},
     "output_type": "execute_result"
    }
   ],
   "source": [
    "\"Dr\" not in y"
   ]
  },
  {
   "cell_type": "code",
   "execution_count": 44,
   "id": "d02ebbdb-e6ee-4a23-b36d-efbf9c765c15",
   "metadata": {},
   "outputs": [
    {
     "data": {
      "text/plain": [
       "'My name is Farsana and I am 21 years old.'"
      ]
     },
     "execution_count": 44,
     "metadata": {},
     "output_type": "execute_result"
    }
   ],
   "source": [
    "name = \"Farsana\"\n",
    "age = 21\n",
    "\n",
    "\"My name is %s and I am %d years old.\" % (name, age)"
   ]
  },
  {
   "cell_type": "code",
   "execution_count": 50,
   "id": "62872dda-a53b-4e36-b5cb-fed06fcc1481",
   "metadata": {},
   "outputs": [
    {
     "data": {
      "text/plain": [
       "'newline is shown by \\n while printing'"
      ]
     },
     "execution_count": 50,
     "metadata": {},
     "output_type": "execute_result"
    }
   ],
   "source": [
    "z = \"newline is shown by \\n while printing\"\n",
    "z"
   ]
  },
  {
   "cell_type": "code",
   "execution_count": 51,
   "id": "3fba8d88-a6d9-424e-b9ca-66840f15e276",
   "metadata": {},
   "outputs": [
    {
     "name": "stdout",
     "output_type": "stream",
     "text": [
      "newline is shown by \n",
      " while printing\n"
     ]
    }
   ],
   "source": [
    "print(\"newline is shown by \\n while printing\")"
   ]
  },
  {
   "cell_type": "code",
   "execution_count": 52,
   "id": "f354331d-3ed0-467b-8659-0504da3bb525",
   "metadata": {},
   "outputs": [
    {
     "name": "stdout",
     "output_type": "stream",
     "text": [
      "newline is shown by \n",
      " while printing\n"
     ]
    }
   ],
   "source": [
    "print(z)"
   ]
  },
  {
   "cell_type": "code",
   "execution_count": 53,
   "id": "67c7376a-8b7d-4112-9e16-0802b23447de",
   "metadata": {},
   "outputs": [
    {
     "name": "stdout",
     "output_type": "stream",
     "text": [
      "newline is shown by \\n while printing\n"
     ]
    }
   ],
   "source": [
    "z = r\"newline is shown by \\n while printing\"\n",
    "print(z)"
   ]
  },
  {
   "cell_type": "markdown",
   "id": "ca62df44-e4cf-4412-b811-435d2ac3c731",
   "metadata": {},
   "source": [
    "# String Method"
   ]
  },
  {
   "cell_type": "code",
   "execution_count": 54,
   "id": "63f26437-2ba6-451c-84d6-51a5022c5245",
   "metadata": {},
   "outputs": [
    {
     "data": {
      "text/plain": [
       "'PYTHON'"
      ]
     },
     "execution_count": 54,
     "metadata": {},
     "output_type": "execute_result"
    }
   ],
   "source": [
    "\"python\".upper()"
   ]
  },
  {
   "cell_type": "code",
   "execution_count": 55,
   "id": "820af538-cd97-490a-ab86-120003eba9b5",
   "metadata": {},
   "outputs": [
    {
     "data": {
      "text/plain": [
       "'python'"
      ]
     },
     "execution_count": 55,
     "metadata": {},
     "output_type": "execute_result"
    }
   ],
   "source": [
    "\"Python\".lower()"
   ]
  },
  {
   "cell_type": "code",
   "execution_count": 58,
   "id": "9a4f0e87-6dca-4833-adc8-bcb715be954c",
   "metadata": {},
   "outputs": [
    {
     "data": {
      "text/plain": [
       "'Hello world'"
      ]
     },
     "execution_count": 58,
     "metadata": {},
     "output_type": "execute_result"
    }
   ],
   "source": [
    "\"hello world\".capitalize()"
   ]
  },
  {
   "cell_type": "code",
   "execution_count": 59,
   "id": "e0c6379f-ecea-4cf0-b231-7925fb6b4e73",
   "metadata": {},
   "outputs": [
    {
     "data": {
      "text/plain": [
       "'Hello World'"
      ]
     },
     "execution_count": 59,
     "metadata": {},
     "output_type": "execute_result"
    }
   ],
   "source": [
    "\"hello world\".title()"
   ]
  },
  {
   "cell_type": "code",
   "execution_count": 60,
   "id": "e7a37b94-ddb0-4239-9d13-f3ad03eaf357",
   "metadata": {},
   "outputs": [
    {
     "data": {
      "text/plain": [
       "'pYTHON'"
      ]
     },
     "execution_count": 60,
     "metadata": {},
     "output_type": "execute_result"
    }
   ],
   "source": [
    "\"Python\".swapcase()"
   ]
  },
  {
   "cell_type": "code",
   "execution_count": 61,
   "id": "3e816352-3b5c-44dd-8da2-bda8f30a4b5b",
   "metadata": {},
   "outputs": [
    {
     "data": {
      "text/plain": [
       "'litfaß'"
      ]
     },
     "execution_count": 61,
     "metadata": {},
     "output_type": "execute_result"
    }
   ],
   "source": [
    "\"Litfaß\".lower()"
   ]
  },
  {
   "cell_type": "code",
   "execution_count": 62,
   "id": "a2cb5691-8b38-40b3-85af-a46637b35d5f",
   "metadata": {},
   "outputs": [
    {
     "data": {
      "text/plain": [
       "'litfass'"
      ]
     },
     "execution_count": 62,
     "metadata": {},
     "output_type": "execute_result"
    }
   ],
   "source": [
    "\"Litfaß\".casefold()"
   ]
  },
  {
   "cell_type": "code",
   "execution_count": 67,
   "id": "a970df23-7060-4208-8df9-014e89c17567",
   "metadata": {},
   "outputs": [
    {
     "name": "stdout",
     "output_type": "stream",
     "text": [
      "('python', ' ', 'class')\n"
     ]
    }
   ],
   "source": [
    "x=\"python class\".partition(\" \")\n",
    "print(x)"
   ]
  },
  {
   "cell_type": "code",
   "execution_count": 68,
   "id": "e0b6066b-2e41-4b10-91fc-8f5edde85243",
   "metadata": {},
   "outputs": [
    {
     "data": {
      "text/plain": [
       "'hello python'"
      ]
     },
     "execution_count": 68,
     "metadata": {},
     "output_type": "execute_result"
    }
   ],
   "source": [
    "\"hi python\".replace(\"hi\", \"hello\")"
   ]
  },
  {
   "cell_type": "code",
   "execution_count": 72,
   "id": "bec112e2-3e27-4b2e-a8c4-b244674e463a",
   "metadata": {},
   "outputs": [
    {
     "data": {
      "text/plain": [
       "8"
      ]
     },
     "execution_count": 72,
     "metadata": {},
     "output_type": "execute_result"
    }
   ],
   "source": [
    "\"hi python\".find(\"n\")"
   ]
  },
  {
   "cell_type": "code",
   "execution_count": 75,
   "id": "340f9da8-fe21-43d6-afaa-1e4b4ceeffaa",
   "metadata": {},
   "outputs": [
    {
     "data": {
      "text/plain": [
       "'hi python'"
      ]
     },
     "execution_count": 75,
     "metadata": {},
     "output_type": "execute_result"
    }
   ],
   "source": [
    "\"   hi python    \".strip()"
   ]
  },
  {
   "cell_type": "code",
   "execution_count": 76,
   "id": "d9104dea-33f1-4896-8329-632eaaec0c53",
   "metadata": {},
   "outputs": [
    {
     "data": {
      "text/plain": [
       "'hi python    '"
      ]
     },
     "execution_count": 76,
     "metadata": {},
     "output_type": "execute_result"
    }
   ],
   "source": [
    "\"   hi python    \".lstrip()"
   ]
  },
  {
   "cell_type": "code",
   "execution_count": 77,
   "id": "3e1b2cf3-4fca-46a1-a483-46adae693f1b",
   "metadata": {},
   "outputs": [
    {
     "data": {
      "text/plain": [
       "'   hi python'"
      ]
     },
     "execution_count": 77,
     "metadata": {},
     "output_type": "execute_result"
    }
   ],
   "source": [
    "\"   hi python    \".rstrip()"
   ]
  },
  {
   "cell_type": "code",
   "execution_count": 2,
   "id": "11e7ccd7-cbfc-4736-af32-421cc7d585c7",
   "metadata": {},
   "outputs": [
    {
     "data": {
      "text/plain": [
       "['Its',\n",
       " 'a',\n",
       " 'fine',\n",
       " 'morning',\n",
       " 'for',\n",
       " 'our',\n",
       " 'webinar...',\n",
       " 'let',\n",
       " 'us',\n",
       " 'learn',\n",
       " 'together']"
      ]
     },
     "execution_count": 2,
     "metadata": {},
     "output_type": "execute_result"
    }
   ],
   "source": [
    "\"Its a fine morning for our webinar... let us learn together\".split(\" \")"
   ]
  },
  {
   "cell_type": "code",
   "execution_count": 1,
   "id": "3489afeb-d9b6-46f1-b120-d0bd08081751",
   "metadata": {},
   "outputs": [
    {
     "data": {
      "text/plain": [
       "1"
      ]
     },
     "execution_count": 1,
     "metadata": {},
     "output_type": "execute_result"
    }
   ],
   "source": [
    "\"Its a fine morning for our webinar... let us learn together\".count(\"fine morning\")"
   ]
  },
  {
   "cell_type": "code",
   "execution_count": 9,
   "id": "26ad3e01-81cf-4b27-a3ea-db99864eb86e",
   "metadata": {},
   "outputs": [
    {
     "data": {
      "text/plain": [
       "'pra     ctice'"
      ]
     },
     "execution_count": 9,
     "metadata": {},
     "output_type": "execute_result"
    }
   ],
   "source": [
    "\"pra\\tctice\".expandtabs()"
   ]
  },
  {
   "cell_type": "code",
   "execution_count": 10,
   "id": "0b4b556f-365c-4abd-89a0-6d81c8539c63",
   "metadata": {},
   "outputs": [
    {
     "data": {
      "text/plain": [
       "'*******Practice******'"
      ]
     },
     "execution_count": 10,
     "metadata": {},
     "output_type": "execute_result"
    }
   ],
   "source": [
    "\"Practice\".center(21,\"*\")"
   ]
  },
  {
   "cell_type": "code",
   "execution_count": 11,
   "id": "1aaa8e99-6599-4cab-a18f-a67697cfa733",
   "metadata": {},
   "outputs": [
    {
     "data": {
      "text/plain": [
       "'P*r*a*c*t*i*c*e'"
      ]
     },
     "execution_count": 11,
     "metadata": {},
     "output_type": "execute_result"
    }
   ],
   "source": [
    "\"*\".join(\"Practice\")"
   ]
  },
  {
   "cell_type": "code",
   "execution_count": 12,
   "id": "58980b56-236f-48b1-8e7c-88decf884326",
   "metadata": {},
   "outputs": [],
   "source": [
    "a = \"Its a fine morning for our webinar... let us learn together\""
   ]
  },
  {
   "cell_type": "code",
   "execution_count": 17,
   "id": "a4f8657d-caae-4c44-9e36-305f4d940888",
   "metadata": {},
   "outputs": [
    {
     "data": {
      "text/plain": [
       "True"
      ]
     },
     "execution_count": 17,
     "metadata": {},
     "output_type": "execute_result"
    }
   ],
   "source": [
    "a.startswith(\"Its a fine\")"
   ]
  },
  {
   "cell_type": "code",
   "execution_count": 18,
   "id": "1cc17d56-def2-435c-8467-11f6a63d29bf",
   "metadata": {},
   "outputs": [
    {
     "data": {
      "text/plain": [
       "True"
      ]
     },
     "execution_count": 18,
     "metadata": {},
     "output_type": "execute_result"
    }
   ],
   "source": [
    "b =\"12345\"\n",
    "b.isnumeric()"
   ]
  },
  {
   "cell_type": "code",
   "execution_count": 21,
   "id": "3790ca94-03cd-4c1b-92bc-f6bc8037e81b",
   "metadata": {},
   "outputs": [
    {
     "data": {
      "text/plain": [
       "True"
      ]
     },
     "execution_count": 21,
     "metadata": {},
     "output_type": "execute_result"
    }
   ],
   "source": [
    "c = \"Practice\"\n",
    "c.isalpha()"
   ]
  },
  {
   "cell_type": "code",
   "execution_count": 23,
   "id": "9d79b4b6-539b-4cec-907c-3b4065fc1942",
   "metadata": {},
   "outputs": [
    {
     "data": {
      "text/plain": [
       "True"
      ]
     },
     "execution_count": 23,
     "metadata": {},
     "output_type": "execute_result"
    }
   ],
   "source": [
    "d = \"PYTHON\"\n",
    "d.isupper()"
   ]
  },
  {
   "cell_type": "code",
   "execution_count": 24,
   "id": "79c8bb29-729b-4e63-a7f1-b27d524a78ea",
   "metadata": {},
   "outputs": [
    {
     "data": {
      "text/plain": [
       "True"
      ]
     },
     "execution_count": 24,
     "metadata": {},
     "output_type": "execute_result"
    }
   ],
   "source": [
    "e = \"hello\"\n",
    "e.islower()"
   ]
  },
  {
   "cell_type": "code",
   "execution_count": 28,
   "id": "dc295f6a-3d8e-417b-a8cf-6d189707cfa2",
   "metadata": {},
   "outputs": [
    {
     "data": {
      "text/plain": [
       "True"
      ]
     },
     "execution_count": 28,
     "metadata": {},
     "output_type": "execute_result"
    }
   ],
   "source": [
    "f = \"Power Of Knowledge\"\n",
    "f.istitle()"
   ]
  },
  {
   "cell_type": "code",
   "execution_count": 32,
   "id": "3bea6143-939d-49b4-9575-7010fad613b4",
   "metadata": {},
   "outputs": [
    {
     "data": {
      "text/plain": [
       "False"
      ]
     },
     "execution_count": 32,
     "metadata": {},
     "output_type": "execute_result"
    }
   ],
   "source": [
    "g =\"python\"\n",
    "h=\"190\"\n",
    "j = \"&jdfg465**\"\n",
    "j.isalnum()"
   ]
  },
  {
   "cell_type": "code",
   "execution_count": 36,
   "id": "94bc8454-f683-43a6-92eb-603e24bec45d",
   "metadata": {},
   "outputs": [
    {
     "data": {
      "text/plain": [
       "True"
      ]
     },
     "execution_count": 36,
     "metadata": {},
     "output_type": "execute_result"
    }
   ],
   "source": [
    "m = \"3482957\"\n",
    "m.isdigit()"
   ]
  },
  {
   "cell_type": "code",
   "execution_count": 37,
   "id": "a75baa7e-126d-4d37-b434-d5244d2a4851",
   "metadata": {},
   "outputs": [
    {
     "data": {
      "text/plain": [
       "True"
      ]
     },
     "execution_count": 37,
     "metadata": {},
     "output_type": "execute_result"
    }
   ],
   "source": [
    "m.isnumeric()"
   ]
  },
  {
   "cell_type": "code",
   "execution_count": null,
   "id": "da6ed482-3531-4a8c-894e-ff826718f726",
   "metadata": {},
   "outputs": [],
   "source": []
  }
 ],
 "metadata": {
  "kernelspec": {
   "display_name": "Python 3 (ipykernel)",
   "language": "python",
   "name": "python3"
  },
  "language_info": {
   "codemirror_mode": {
    "name": "ipython",
    "version": 3
   },
   "file_extension": ".py",
   "mimetype": "text/x-python",
   "name": "python",
   "nbconvert_exporter": "python",
   "pygments_lexer": "ipython3",
   "version": "3.9.0"
  }
 },
 "nbformat": 4,
 "nbformat_minor": 5
}
