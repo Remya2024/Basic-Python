{
 "cells": [
  {
   "cell_type": "markdown",
   "id": "3d7022ee-9ce9-4c88-b1c3-e671c8916e4e",
   "metadata": {},
   "source": [
    "# Dictionary"
   ]
  },
  {
   "cell_type": "code",
   "execution_count": 4,
   "id": "0c999c62-4df3-4ebb-88bb-6cd1e6acac0e",
   "metadata": {},
   "outputs": [
    {
     "data": {
      "text/plain": [
       "{5: 7, 6: 'python'}"
      ]
     },
     "execution_count": 4,
     "metadata": {},
     "output_type": "execute_result"
    }
   ],
   "source": [
    "d = {5:7,6:\"python\"}\n",
    "d"
   ]
  },
  {
   "cell_type": "code",
   "execution_count": 22,
   "id": "de8594c6-1f2d-45e2-9b93-98a6afd3a6f7",
   "metadata": {},
   "outputs": [
    {
     "data": {
      "text/plain": [
       "{}"
      ]
     },
     "execution_count": 22,
     "metadata": {},
     "output_type": "execute_result"
    }
   ],
   "source": [
    "da = {}\n",
    "da"
   ]
  },
  {
   "cell_type": "code",
   "execution_count": 23,
   "id": "ccb2b551-77ef-45dd-827e-0845f572bcf2",
   "metadata": {},
   "outputs": [
    {
     "data": {
      "text/plain": [
       "dict"
      ]
     },
     "execution_count": 23,
     "metadata": {},
     "output_type": "execute_result"
    }
   ],
   "source": [
    "type(da)"
   ]
  },
  {
   "cell_type": "code",
   "execution_count": 3,
   "id": "645da0a5-7d6f-4afe-b12e-3c7d9b938309",
   "metadata": {},
   "outputs": [
    {
     "data": {
      "text/plain": [
       "{'alice': 'painter', 'anas': 'athelete', 'aditya': 'painter'}"
      ]
     },
     "execution_count": 3,
     "metadata": {},
     "output_type": "execute_result"
    }
   ],
   "source": [
    "d1 = {\"alice\" :\"painter\", \"anas\":\"dancer\",\"anas\":\"athelete\", \"aditya\":\"painter\"}\n",
    "d1"
   ]
  },
  {
   "cell_type": "code",
   "execution_count": 5,
   "id": "ba735b2a-5362-43d2-99e1-9480b9a4f6cf",
   "metadata": {},
   "outputs": [
    {
     "data": {
      "text/plain": [
       "{'class': 'python', 'duration': 1, 1: 'x', 2: (1, 6, 2)}"
      ]
     },
     "execution_count": 5,
     "metadata": {},
     "output_type": "execute_result"
    }
   ],
   "source": [
    "d2 = {\"class\": \"python\",\"duration\":1, 1:\"x\",2:(1,6,2)}\n",
    "d2"
   ]
  },
  {
   "cell_type": "code",
   "execution_count": 6,
   "id": "83bff722-1ebc-4bae-92c2-0e2dff44c79e",
   "metadata": {},
   "outputs": [
    {
     "data": {
      "text/plain": [
       "dict"
      ]
     },
     "execution_count": 6,
     "metadata": {},
     "output_type": "execute_result"
    }
   ],
   "source": [
    "type(d2)"
   ]
  },
  {
   "cell_type": "code",
   "execution_count": 7,
   "id": "0a46e357-0726-497f-979d-0f1abae0cb7a",
   "metadata": {},
   "outputs": [
    {
     "data": {
      "text/plain": [
       "{'class': 'python', 'duration': 1, 1: 'x', 2: (1, 6, 2), 9: [4, 5, 6]}"
      ]
     },
     "execution_count": 7,
     "metadata": {},
     "output_type": "execute_result"
    }
   ],
   "source": [
    "d3 = {\"class\": \"python\",\"duration\":1, 1:\"x\",2:(1,6,2), 9:[4,5,6]}\n",
    "d3"
   ]
  },
  {
   "cell_type": "code",
   "execution_count": 8,
   "id": "39a8900f-a432-42cd-80c9-ed7eac680cb6",
   "metadata": {},
   "outputs": [
    {
     "data": {
      "text/plain": [
       "{'class': 'python',\n",
       " 'duration': 1,\n",
       " 1: 'x',\n",
       " 2: (1, 6, 2),\n",
       " 9: [4, 5, 6],\n",
       " (3, 6): 9}"
      ]
     },
     "execution_count": 8,
     "metadata": {},
     "output_type": "execute_result"
    }
   ],
   "source": [
    "d4 = {\"class\": \"python\",\"duration\":1, 1:\"x\",2:(1,6,2), 9:[4,5,6],(3,6):9}\n",
    "d4"
   ]
  },
  {
   "cell_type": "code",
   "execution_count": 9,
   "id": "e7d6c56c-f17c-4c85-adf9-ab60a4f75893",
   "metadata": {},
   "outputs": [
    {
     "ename": "TypeError",
     "evalue": "unhashable type: 'list'",
     "output_type": "error",
     "traceback": [
      "\u001b[1;31m---------------------------------------------------------------------------\u001b[0m",
      "\u001b[1;31mTypeError\u001b[0m                                 Traceback (most recent call last)",
      "Cell \u001b[1;32mIn[9], line 1\u001b[0m\n\u001b[1;32m----> 1\u001b[0m d5 \u001b[38;5;241m=\u001b[39m {\u001b[38;5;124m\"\u001b[39m\u001b[38;5;124mclass\u001b[39m\u001b[38;5;124m\"\u001b[39m: \u001b[38;5;124m\"\u001b[39m\u001b[38;5;124mpython\u001b[39m\u001b[38;5;124m\"\u001b[39m,\u001b[38;5;124m\"\u001b[39m\u001b[38;5;124mduration\u001b[39m\u001b[38;5;124m\"\u001b[39m:\u001b[38;5;241m1\u001b[39m, \u001b[38;5;241m1\u001b[39m:\u001b[38;5;124m\"\u001b[39m\u001b[38;5;124mx\u001b[39m\u001b[38;5;124m\"\u001b[39m,\u001b[38;5;241m2\u001b[39m:(\u001b[38;5;241m1\u001b[39m,\u001b[38;5;241m6\u001b[39m,\u001b[38;5;241m2\u001b[39m), \u001b[38;5;241m9\u001b[39m:[\u001b[38;5;241m4\u001b[39m,\u001b[38;5;241m5\u001b[39m,\u001b[38;5;241m6\u001b[39m],(\u001b[38;5;241m3\u001b[39m,\u001b[38;5;241m6\u001b[39m):\u001b[38;5;241m9\u001b[39m, [\u001b[38;5;241m4\u001b[39m,\u001b[38;5;241m9\u001b[39m]:\u001b[38;5;241m1\u001b[39m}\n\u001b[0;32m      2\u001b[0m d5\n",
      "\u001b[1;31mTypeError\u001b[0m: unhashable type: 'list'"
     ]
    }
   ],
   "source": [
    "d5 = {\"class\": \"python\",\"duration\":1, 1:\"x\",2:(1,6,2), 9:[4,5,6],(3,6):9, [4,9]:1}\n",
    "d5"
   ]
  },
  {
   "cell_type": "code",
   "execution_count": 10,
   "id": "a7b3b626-c101-4c13-96dc-fec4ad8b86f7",
   "metadata": {},
   "outputs": [
    {
     "data": {
      "text/plain": [
       "dict_keys(['class', 'duration', 1, 2, 9, (3, 6)])"
      ]
     },
     "execution_count": 10,
     "metadata": {},
     "output_type": "execute_result"
    }
   ],
   "source": [
    "d4.keys()"
   ]
  },
  {
   "cell_type": "code",
   "execution_count": 12,
   "id": "1a6b1e90-c9e0-4c7c-8c89-aaa473b7254f",
   "metadata": {},
   "outputs": [
    {
     "data": {
      "text/plain": [
       "dict_values(['python', 1, 'x', (1, 6, 2), [4, 5, 6], 9])"
      ]
     },
     "execution_count": 12,
     "metadata": {},
     "output_type": "execute_result"
    }
   ],
   "source": [
    "d4.values()"
   ]
  },
  {
   "cell_type": "code",
   "execution_count": 13,
   "id": "933c0f1f-ea03-4c73-b606-c93f0afe2a15",
   "metadata": {},
   "outputs": [
    {
     "data": {
      "text/plain": [
       "{'class': 'python',\n",
       " 'duration': 1,\n",
       " 1: 'x',\n",
       " 2: (1, 6, 2),\n",
       " 9: [4, 5, 6],\n",
       " (3, 6): 9}"
      ]
     },
     "execution_count": 13,
     "metadata": {},
     "output_type": "execute_result"
    }
   ],
   "source": [
    "d4"
   ]
  },
  {
   "cell_type": "code",
   "execution_count": 14,
   "id": "9c23b279-c8f6-4ae3-ab76-d7a861442e3d",
   "metadata": {},
   "outputs": [
    {
     "data": {
      "text/plain": [
       "9"
      ]
     },
     "execution_count": 14,
     "metadata": {},
     "output_type": "execute_result"
    }
   ],
   "source": [
    "d4[(3,6)]"
   ]
  },
  {
   "cell_type": "code",
   "execution_count": 15,
   "id": "5e33b8f0-07ef-4d06-b6e6-4aff6d08d98d",
   "metadata": {},
   "outputs": [
    {
     "data": {
      "text/plain": [
       "(1, 6, 2)"
      ]
     },
     "execution_count": 15,
     "metadata": {},
     "output_type": "execute_result"
    }
   ],
   "source": [
    "d4[2]"
   ]
  },
  {
   "cell_type": "code",
   "execution_count": 16,
   "id": "7fbb304f-1846-40fc-b0ff-9e72cb5eaea9",
   "metadata": {},
   "outputs": [
    {
     "data": {
      "text/plain": [
       "6"
      ]
     },
     "execution_count": 16,
     "metadata": {},
     "output_type": "execute_result"
    }
   ],
   "source": [
    "d4[2][1]"
   ]
  },
  {
   "cell_type": "code",
   "execution_count": 18,
   "id": "441c00ab-7513-42c1-a661-16ae47e1689c",
   "metadata": {},
   "outputs": [
    {
     "data": {
      "text/plain": [
       "'PYTHON'"
      ]
     },
     "execution_count": 18,
     "metadata": {},
     "output_type": "execute_result"
    }
   ],
   "source": [
    "d4[\"class\"].upper()"
   ]
  },
  {
   "cell_type": "code",
   "execution_count": 22,
   "id": "e7c1e87c-c999-4b8d-a496-79a2e441a4d9",
   "metadata": {},
   "outputs": [
    {
     "data": {
      "text/plain": [
       "{'class': 'python',\n",
       " 'duration': 1,\n",
       " 1: 'x',\n",
       " 2: (1, 6, 2),\n",
       " 9: [4, 5, 6],\n",
       " (3, 6): 9,\n",
       " 6: {'python': 9}}"
      ]
     },
     "execution_count": 22,
     "metadata": {},
     "output_type": "execute_result"
    }
   ],
   "source": [
    "d5 = {\"class\": \"python\",\"duration\":1, 1:\"x\",2:(1,6,2), 9:[4,5,6],(3,6):9,6:{\"python\":9}}\n",
    "d5"
   ]
  },
  {
   "cell_type": "code",
   "execution_count": 30,
   "id": "8b04d9be-7041-483f-9b66-a3a6903c426d",
   "metadata": {},
   "outputs": [
    {
     "data": {
      "text/plain": [
       "{'class': 'python',\n",
       " 'duration': 1,\n",
       " 1: 'x',\n",
       " 2: (1, 6, 2),\n",
       " 9: [4, 5, 6],\n",
       " (3, 6): 9,\n",
       " 6: {'python': 9},\n",
       " (1, 2): 0}"
      ]
     },
     "execution_count": 30,
     "metadata": {},
     "output_type": "execute_result"
    }
   ],
   "source": [
    "d6 = {\"class\": \"python\",\"duration\":1, 1:\"x\",2:(1,6,2), 9:[4,5,6],(3,6):9,6:{\"python\":9},(1,2):0}\n",
    "d6"
   ]
  },
  {
   "cell_type": "code",
   "execution_count": 31,
   "id": "979fc665-8efe-48c2-8819-44671bb54942",
   "metadata": {},
   "outputs": [],
   "source": [
    "del d6"
   ]
  },
  {
   "cell_type": "code",
   "execution_count": 32,
   "id": "2638d605-ad36-4c45-a3a1-9bdcd0a01a9c",
   "metadata": {},
   "outputs": [
    {
     "ename": "NameError",
     "evalue": "name 'd6' is not defined",
     "output_type": "error",
     "traceback": [
      "\u001b[1;31m---------------------------------------------------------------------------\u001b[0m",
      "\u001b[1;31mNameError\u001b[0m                                 Traceback (most recent call last)",
      "Cell \u001b[1;32mIn[32], line 1\u001b[0m\n\u001b[1;32m----> 1\u001b[0m \u001b[43md6\u001b[49m\n",
      "\u001b[1;31mNameError\u001b[0m: name 'd6' is not defined"
     ]
    }
   ],
   "source": [
    "d6"
   ]
  },
  {
   "cell_type": "code",
   "execution_count": 33,
   "id": "cbd2143b-b6a9-4a40-95f3-4d1d3e119f7a",
   "metadata": {},
   "outputs": [
    {
     "data": {
      "text/plain": [
       "{'class': 'python',\n",
       " 'duration': 1,\n",
       " 1: 'x',\n",
       " 2: (1, 6, 2),\n",
       " 9: [4, 5, 6],\n",
       " (3, 6): 9,\n",
       " 6: {'python': 9}}"
      ]
     },
     "execution_count": 33,
     "metadata": {},
     "output_type": "execute_result"
    }
   ],
   "source": [
    "d5"
   ]
  },
  {
   "cell_type": "code",
   "execution_count": 34,
   "id": "04a1ea52-743f-45f4-9fcc-8ddeff962d52",
   "metadata": {},
   "outputs": [],
   "source": [
    "del d5[\"class\"]"
   ]
  },
  {
   "cell_type": "code",
   "execution_count": 35,
   "id": "dbbb0b45-fafe-49ab-b1f1-72ee936f6efd",
   "metadata": {},
   "outputs": [
    {
     "data": {
      "text/plain": [
       "{'duration': 1,\n",
       " 1: 'x',\n",
       " 2: (1, 6, 2),\n",
       " 9: [4, 5, 6],\n",
       " (3, 6): 9,\n",
       " 6: {'python': 9}}"
      ]
     },
     "execution_count": 35,
     "metadata": {},
     "output_type": "execute_result"
    }
   ],
   "source": [
    "d5"
   ]
  },
  {
   "cell_type": "code",
   "execution_count": 36,
   "id": "58061f45-ec4d-4cc0-90f7-eacda304c287",
   "metadata": {},
   "outputs": [
    {
     "data": {
      "text/plain": [
       "{'duration': 1,\n",
       " 1: 'x',\n",
       " 2: (1, 6, 2),\n",
       " 9: [4, 5, 6],\n",
       " (3, 6): 9,\n",
       " 6: {'python': 9}}"
      ]
     },
     "execution_count": 36,
     "metadata": {},
     "output_type": "execute_result"
    }
   ],
   "source": [
    "d5"
   ]
  },
  {
   "cell_type": "code",
   "execution_count": 37,
   "id": "8fe07a79-7bbe-4764-b51d-3bc59bb408aa",
   "metadata": {},
   "outputs": [
    {
     "data": {
      "text/plain": [
       "{'duration': 1,\n",
       " 1: 'x',\n",
       " 2: (1, 6, 2),\n",
       " 9: [4, 5, 6],\n",
       " (3, 6): 9,\n",
       " 6: {'python': 9},\n",
       " 'roll n.o.': 2}"
      ]
     },
     "execution_count": 37,
     "metadata": {},
     "output_type": "execute_result"
    }
   ],
   "source": [
    "d5[\"roll n.o.\"]=2\n",
    "d5"
   ]
  },
  {
   "cell_type": "code",
   "execution_count": 2,
   "id": "ddb0bbd1-f137-44eb-8b10-93d726e60ec1",
   "metadata": {},
   "outputs": [
    {
     "data": {
      "text/plain": [
       "{'name': 'x', 'mentor': 'y'}"
      ]
     },
     "execution_count": 2,
     "metadata": {},
     "output_type": "execute_result"
    }
   ],
   "source": [
    "d7 = {\"name\": \"x\", \"mentor\":\"y\"}\n",
    "d7"
   ]
  },
  {
   "cell_type": "code",
   "execution_count": 3,
   "id": "756ce682-6006-421e-b610-106ef76d605c",
   "metadata": {},
   "outputs": [
    {
     "data": {
      "text/plain": [
       "{'name': 'x', 'mentor': 'z'}"
      ]
     },
     "execution_count": 3,
     "metadata": {},
     "output_type": "execute_result"
    }
   ],
   "source": [
    "d7.update({\"mentor\":\"z\"})\n",
    "d7"
   ]
  },
  {
   "cell_type": "code",
   "execution_count": 4,
   "id": "5e65873e-a642-4216-b7d8-880449e0d32e",
   "metadata": {},
   "outputs": [
    {
     "data": {
      "text/plain": [
       "{'name': 'x', 'mentor': 'y', 'roll n.o': 104, 'org': 'abcd', 'location': 'pqr'}"
      ]
     },
     "execution_count": 4,
     "metadata": {},
     "output_type": "execute_result"
    }
   ],
   "source": [
    "d8 = {\"name\": \"x\", \"mentor\":\"y\", \"roll n.o\" :104,\"org\":\"abcd\", \"location\":\"pqr\"}\n",
    "d8"
   ]
  },
  {
   "cell_type": "code",
   "execution_count": 5,
   "id": "056b1044-5e34-4537-9fa6-69cea2fc1bab",
   "metadata": {},
   "outputs": [
    {
     "data": {
      "text/plain": [
       "'y'"
      ]
     },
     "execution_count": 5,
     "metadata": {},
     "output_type": "execute_result"
    }
   ],
   "source": [
    "d8.pop(\"mentor\")"
   ]
  },
  {
   "cell_type": "code",
   "execution_count": 6,
   "id": "a225e414-a52f-42c2-89b2-f9ddb089bfa3",
   "metadata": {},
   "outputs": [
    {
     "data": {
      "text/plain": [
       "{'name': 'x', 'roll n.o': 104, 'org': 'abcd', 'location': 'pqr'}"
      ]
     },
     "execution_count": 6,
     "metadata": {},
     "output_type": "execute_result"
    }
   ],
   "source": [
    "d8"
   ]
  },
  {
   "cell_type": "code",
   "execution_count": 7,
   "id": "b798c023-c707-4f6b-ad52-62ea09cf3725",
   "metadata": {},
   "outputs": [
    {
     "data": {
      "text/plain": [
       "('location', 'pqr')"
      ]
     },
     "execution_count": 7,
     "metadata": {},
     "output_type": "execute_result"
    }
   ],
   "source": [
    "d8.popitem()"
   ]
  },
  {
   "cell_type": "code",
   "execution_count": 8,
   "id": "80fc6cfc-afe5-4d0a-bfb9-9c2f796c3424",
   "metadata": {},
   "outputs": [
    {
     "data": {
      "text/plain": [
       "{'name': 'x', 'roll n.o': 104, 'org': 'abcd'}"
      ]
     },
     "execution_count": 8,
     "metadata": {},
     "output_type": "execute_result"
    }
   ],
   "source": [
    "d8"
   ]
  },
  {
   "cell_type": "code",
   "execution_count": 9,
   "id": "ce2c7f29-6a83-4788-9841-8a569a2f55d4",
   "metadata": {},
   "outputs": [
    {
     "data": {
      "text/plain": [
       "3"
      ]
     },
     "execution_count": 9,
     "metadata": {},
     "output_type": "execute_result"
    }
   ],
   "source": [
    "len(d8)"
   ]
  },
  {
   "cell_type": "code",
   "execution_count": 10,
   "id": "567eff59-d47c-4678-80ad-018f48c2a59d",
   "metadata": {},
   "outputs": [
    {
     "data": {
      "text/plain": [
       "{'name': 'x', 'roll n.o': 104, 'org': 'abcd'}"
      ]
     },
     "execution_count": 10,
     "metadata": {},
     "output_type": "execute_result"
    }
   ],
   "source": [
    "d9 = d8.copy()\n",
    "d9"
   ]
  },
  {
   "cell_type": "code",
   "execution_count": 15,
   "id": "25d08140-0fdd-4454-864d-d9ed7d7bd4d2",
   "metadata": {},
   "outputs": [
    {
     "data": {
      "text/plain": [
       "'abcd'"
      ]
     },
     "execution_count": 15,
     "metadata": {},
     "output_type": "execute_result"
    }
   ],
   "source": [
    "d9.get('org')"
   ]
  },
  {
   "cell_type": "markdown",
   "id": "106469b3-93a3-4301-a8e6-e891ddf41a0d",
   "metadata": {},
   "source": [
    "# Set"
   ]
  },
  {
   "cell_type": "code",
   "execution_count": 20,
   "id": "25def0a8-ee0c-44fa-aab7-07418fc8b1d2",
   "metadata": {},
   "outputs": [
    {
     "data": {
      "text/plain": [
       "{1, 3.9, 8, 'python'}"
      ]
     },
     "execution_count": 20,
     "metadata": {},
     "output_type": "execute_result"
    }
   ],
   "source": [
    "a = {1,3.9,\"python\",8,8}\n",
    "a"
   ]
  },
  {
   "cell_type": "code",
   "execution_count": 17,
   "id": "fb75575a-a843-4441-aad1-c471565166cc",
   "metadata": {},
   "outputs": [
    {
     "data": {
      "text/plain": [
       "set"
      ]
     },
     "execution_count": 17,
     "metadata": {},
     "output_type": "execute_result"
    }
   ],
   "source": [
    "type(a)"
   ]
  },
  {
   "cell_type": "code",
   "execution_count": 24,
   "id": "a306f471-f95b-4757-9331-b4a7d2ffbe48",
   "metadata": {},
   "outputs": [
    {
     "data": {
      "text/plain": [
       "set()"
      ]
     },
     "execution_count": 24,
     "metadata": {},
     "output_type": "execute_result"
    }
   ],
   "source": [
    "b = set()\n",
    "b"
   ]
  },
  {
   "cell_type": "code",
   "execution_count": 25,
   "id": "5920050b-afcf-4d41-9282-0b391e3d8d50",
   "metadata": {},
   "outputs": [
    {
     "data": {
      "text/plain": [
       "set"
      ]
     },
     "execution_count": 25,
     "metadata": {},
     "output_type": "execute_result"
    }
   ],
   "source": [
    "type(b)"
   ]
  },
  {
   "cell_type": "code",
   "execution_count": 26,
   "id": "b6511a8a-49c6-40f0-aebd-c488f8299cf9",
   "metadata": {},
   "outputs": [
    {
     "data": {
      "text/plain": [
       "{1, 3.9, 8, 'python'}"
      ]
     },
     "execution_count": 26,
     "metadata": {},
     "output_type": "execute_result"
    }
   ],
   "source": [
    "a"
   ]
  },
  {
   "cell_type": "code",
   "execution_count": 27,
   "id": "b53f5af8-a05d-4b42-b6ac-fc7842e7aba9",
   "metadata": {},
   "outputs": [
    {
     "data": {
      "text/plain": [
       "{(99+8j), 1, 3.9, 8, 'python'}"
      ]
     },
     "execution_count": 27,
     "metadata": {},
     "output_type": "execute_result"
    }
   ],
   "source": [
    "a.add(99+8j)\n",
    "a"
   ]
  },
  {
   "cell_type": "code",
   "execution_count": 28,
   "id": "34feff34-f4e2-4c72-be51-318030a88a64",
   "metadata": {},
   "outputs": [
    {
     "data": {
      "text/plain": [
       "{(99+8j), 1, 3.9, 8, 'class', 'python'}"
      ]
     },
     "execution_count": 28,
     "metadata": {},
     "output_type": "execute_result"
    }
   ],
   "source": [
    "a.add(\"class\")\n",
    "a"
   ]
  },
  {
   "cell_type": "code",
   "execution_count": 29,
   "id": "cf5b039f-fc0e-41ea-89f7-4d0b46d0b65b",
   "metadata": {},
   "outputs": [
    {
     "data": {
      "text/plain": [
       "{(99+8j), 1, 3.9, 8, 'class'}"
      ]
     },
     "execution_count": 29,
     "metadata": {},
     "output_type": "execute_result"
    }
   ],
   "source": [
    "a.remove('python')\n",
    "a"
   ]
  },
  {
   "cell_type": "code",
   "execution_count": 30,
   "id": "caafe2ea-9d06-4daf-8dde-f977e2df7ded",
   "metadata": {},
   "outputs": [],
   "source": [
    "a.discard(1)"
   ]
  },
  {
   "cell_type": "code",
   "execution_count": 31,
   "id": "b4fdbd06-16cf-4dd6-86cd-c8ca3ab262e5",
   "metadata": {},
   "outputs": [
    {
     "data": {
      "text/plain": [
       "{(99+8j), 3.9, 8, 'class'}"
      ]
     },
     "execution_count": 31,
     "metadata": {},
     "output_type": "execute_result"
    }
   ],
   "source": [
    "a"
   ]
  },
  {
   "cell_type": "code",
   "execution_count": 34,
   "id": "dbd9bf5e-8385-4725-8a27-d01c08d10c80",
   "metadata": {},
   "outputs": [],
   "source": [
    "x = {1,2,3,4}\n",
    "y = {7,8,9,10}\n",
    "\n",
    "x.update(y)"
   ]
  },
  {
   "cell_type": "code",
   "execution_count": 35,
   "id": "b26e30ee-8d0d-437d-8356-12875b6cd0f1",
   "metadata": {},
   "outputs": [
    {
     "data": {
      "text/plain": [
       "{1, 2, 3, 4, 7, 8, 9, 10}"
      ]
     },
     "execution_count": 35,
     "metadata": {},
     "output_type": "execute_result"
    }
   ],
   "source": [
    "x"
   ]
  },
  {
   "cell_type": "code",
   "execution_count": 36,
   "id": "a717bf3f-4062-41b7-948f-f9aab072454c",
   "metadata": {},
   "outputs": [
    {
     "ename": "TypeError",
     "evalue": "'set' object is not subscriptable",
     "output_type": "error",
     "traceback": [
      "\u001b[1;31m---------------------------------------------------------------------------\u001b[0m",
      "\u001b[1;31mTypeError\u001b[0m                                 Traceback (most recent call last)",
      "Cell \u001b[1;32mIn[36], line 1\u001b[0m\n\u001b[1;32m----> 1\u001b[0m \u001b[43mx\u001b[49m\u001b[43m[\u001b[49m\u001b[38;5;241;43m0\u001b[39;49m\u001b[43m]\u001b[49m\n",
      "\u001b[1;31mTypeError\u001b[0m: 'set' object is not subscriptable"
     ]
    }
   ],
   "source": [
    "x[0]"
   ]
  },
  {
   "cell_type": "code",
   "execution_count": 37,
   "id": "3fcea576-f112-4dad-81f2-cc60bf541b8c",
   "metadata": {},
   "outputs": [
    {
     "ename": "AttributeError",
     "evalue": "'set' object has no attribute 'append'",
     "output_type": "error",
     "traceback": [
      "\u001b[1;31m---------------------------------------------------------------------------\u001b[0m",
      "\u001b[1;31mAttributeError\u001b[0m                            Traceback (most recent call last)",
      "Cell \u001b[1;32mIn[37], line 1\u001b[0m\n\u001b[1;32m----> 1\u001b[0m \u001b[43mx\u001b[49m\u001b[38;5;241;43m.\u001b[39;49m\u001b[43mappend\u001b[49m(\u001b[38;5;241m5\u001b[39m)\n",
      "\u001b[1;31mAttributeError\u001b[0m: 'set' object has no attribute 'append'"
     ]
    }
   ],
   "source": [
    "x.append(5)"
   ]
  },
  {
   "cell_type": "code",
   "execution_count": 40,
   "id": "f5466c75-d186-4190-87fb-bb89c895894b",
   "metadata": {},
   "outputs": [
    {
     "ename": "TypeError",
     "evalue": "unsupported operand type(s) for *: 'set' and 'int'",
     "output_type": "error",
     "traceback": [
      "\u001b[1;31m---------------------------------------------------------------------------\u001b[0m",
      "\u001b[1;31mTypeError\u001b[0m                                 Traceback (most recent call last)",
      "Cell \u001b[1;32mIn[40], line 3\u001b[0m\n\u001b[0;32m      1\u001b[0m x \u001b[38;5;241m=\u001b[39m {\u001b[38;5;241m1\u001b[39m,\u001b[38;5;241m2\u001b[39m,\u001b[38;5;241m3\u001b[39m,\u001b[38;5;241m4\u001b[39m}\n\u001b[0;32m      2\u001b[0m y \u001b[38;5;241m=\u001b[39m {\u001b[38;5;241m7\u001b[39m,\u001b[38;5;241m8\u001b[39m,\u001b[38;5;241m9\u001b[39m,\u001b[38;5;241m10\u001b[39m}\n\u001b[1;32m----> 3\u001b[0m \u001b[43mx\u001b[49m\u001b[38;5;241;43m*\u001b[39;49m\u001b[38;5;241;43m4\u001b[39;49m\n",
      "\u001b[1;31mTypeError\u001b[0m: unsupported operand type(s) for *: 'set' and 'int'"
     ]
    }
   ],
   "source": [
    "x = {1,2,3,4}\n",
    "y = {7,8,9,10}\n",
    "x*4"
   ]
  },
  {
   "cell_type": "code",
   "execution_count": 41,
   "id": "ad7c5e52-3339-437e-a2d4-b11270c57eca",
   "metadata": {},
   "outputs": [
    {
     "data": {
      "text/plain": [
       "{1, 2, 3, 4}"
      ]
     },
     "execution_count": 41,
     "metadata": {},
     "output_type": "execute_result"
    }
   ],
   "source": [
    "x"
   ]
  },
  {
   "cell_type": "code",
   "execution_count": 42,
   "id": "452af4ed-b75f-42ea-a01a-ba342e1ca5fa",
   "metadata": {},
   "outputs": [
    {
     "data": {
      "text/plain": [
       "set()"
      ]
     },
     "execution_count": 42,
     "metadata": {},
     "output_type": "execute_result"
    }
   ],
   "source": [
    "x.clear()\n",
    "x"
   ]
  },
  {
   "cell_type": "code",
   "execution_count": 43,
   "id": "8976586c-36a8-4b4b-a111-e3173e0a6298",
   "metadata": {},
   "outputs": [
    {
     "data": {
      "text/plain": [
       "{3, 4}"
      ]
     },
     "execution_count": 43,
     "metadata": {},
     "output_type": "execute_result"
    }
   ],
   "source": [
    "x = {1,2,3,4,7,8}\n",
    "y = {7,8,9,10,1,2}\n",
    "\n",
    "x.difference(y)"
   ]
  },
  {
   "cell_type": "code",
   "execution_count": 44,
   "id": "1b440d9c-8a95-432b-a768-681573618d68",
   "metadata": {},
   "outputs": [
    {
     "data": {
      "text/plain": [
       "{9, 10}"
      ]
     },
     "execution_count": 44,
     "metadata": {},
     "output_type": "execute_result"
    }
   ],
   "source": [
    "y.difference(x)"
   ]
  },
  {
   "cell_type": "code",
   "execution_count": 45,
   "id": "521956d0-e6ad-4b52-a309-b40497dfe64b",
   "metadata": {},
   "outputs": [
    {
     "data": {
      "text/plain": [
       "{1, 2, 7, 8}"
      ]
     },
     "execution_count": 45,
     "metadata": {},
     "output_type": "execute_result"
    }
   ],
   "source": [
    "x.intersection(y)"
   ]
  },
  {
   "cell_type": "code",
   "execution_count": 46,
   "id": "81977eb2-90a8-4881-a130-b7655ed2708b",
   "metadata": {},
   "outputs": [
    {
     "data": {
      "text/plain": [
       "{1, 2, 3, 4, 7, 8}"
      ]
     },
     "execution_count": 46,
     "metadata": {},
     "output_type": "execute_result"
    }
   ],
   "source": [
    "x"
   ]
  },
  {
   "cell_type": "code",
   "execution_count": 47,
   "id": "9a5148c3-c4ef-4613-962c-93b80f950436",
   "metadata": {},
   "outputs": [
    {
     "data": {
      "text/plain": [
       "{1, 2, 7, 8, 9, 10}"
      ]
     },
     "execution_count": 47,
     "metadata": {},
     "output_type": "execute_result"
    }
   ],
   "source": [
    "y"
   ]
  },
  {
   "cell_type": "code",
   "execution_count": 48,
   "id": "f6b7364a-ca03-4997-b404-5e310bda6140",
   "metadata": {},
   "outputs": [],
   "source": [
    "x.difference_update(y)"
   ]
  },
  {
   "cell_type": "code",
   "execution_count": 49,
   "id": "48901da3-e122-4740-ab86-7a99f6f30630",
   "metadata": {},
   "outputs": [
    {
     "data": {
      "text/plain": [
       "{3, 4}"
      ]
     },
     "execution_count": 49,
     "metadata": {},
     "output_type": "execute_result"
    }
   ],
   "source": [
    "x"
   ]
  },
  {
   "cell_type": "code",
   "execution_count": 52,
   "id": "584c0914-69c0-48b9-ba77-10549a40a98b",
   "metadata": {},
   "outputs": [
    {
     "data": {
      "text/plain": [
       "{1, 2, 7, 8}"
      ]
     },
     "execution_count": 52,
     "metadata": {},
     "output_type": "execute_result"
    }
   ],
   "source": [
    "x = {1,2,3,4,7,8}\n",
    "y = {7,8,9,10,1,2}\n",
    "y.intersection_update(x)\n",
    "y"
   ]
  },
  {
   "cell_type": "markdown",
   "id": "ed2934db-75b4-4533-ba46-d2a69816c18e",
   "metadata": {},
   "source": [
    "### Operators"
   ]
  },
  {
   "cell_type": "code",
   "execution_count": 53,
   "id": "7e5d2de7-7569-4ce0-a23f-1ff3c6f71bc2",
   "metadata": {},
   "outputs": [],
   "source": [
    "x = {1,2,3,4,7,8}\n",
    "y = {7,8,9,10,1,2}\n"
   ]
  },
  {
   "cell_type": "code",
   "execution_count": 54,
   "id": "192967a8-c521-4a1b-a714-7900c7bd1b57",
   "metadata": {},
   "outputs": [
    {
     "data": {
      "text/plain": [
       "{1, 2, 7, 8}"
      ]
     },
     "execution_count": 54,
     "metadata": {},
     "output_type": "execute_result"
    }
   ],
   "source": [
    "x&y"
   ]
  },
  {
   "cell_type": "code",
   "execution_count": 55,
   "id": "a36bbb46-1250-458f-977a-5d566432098a",
   "metadata": {},
   "outputs": [
    {
     "data": {
      "text/plain": [
       "{1, 2, 3, 4, 7, 8, 9, 10}"
      ]
     },
     "execution_count": 55,
     "metadata": {},
     "output_type": "execute_result"
    }
   ],
   "source": [
    "x|y"
   ]
  },
  {
   "cell_type": "code",
   "execution_count": 56,
   "id": "7e222a71-4372-4b45-8bb1-f44ff62d5107",
   "metadata": {},
   "outputs": [
    {
     "data": {
      "text/plain": [
       "{3, 4}"
      ]
     },
     "execution_count": 56,
     "metadata": {},
     "output_type": "execute_result"
    }
   ],
   "source": [
    "x-y"
   ]
  },
  {
   "cell_type": "code",
   "execution_count": 57,
   "id": "fe28e867-cbfa-44b6-a684-ed324d1063ea",
   "metadata": {},
   "outputs": [
    {
     "data": {
      "text/plain": [
       "{9, 10}"
      ]
     },
     "execution_count": 57,
     "metadata": {},
     "output_type": "execute_result"
    }
   ],
   "source": [
    "y-x"
   ]
  },
  {
   "cell_type": "code",
   "execution_count": 58,
   "id": "abd19586-dfbb-4ae3-b39b-b8f4af11fa62",
   "metadata": {},
   "outputs": [
    {
     "data": {
      "text/plain": [
       "{3, 4, 9, 10}"
      ]
     },
     "execution_count": 58,
     "metadata": {},
     "output_type": "execute_result"
    }
   ],
   "source": [
    "x^y"
   ]
  },
  {
   "cell_type": "code",
   "execution_count": null,
   "id": "9b663e55-1e0b-4ee4-849c-c15422b4c93e",
   "metadata": {},
   "outputs": [],
   "source": []
  }
 ],
 "metadata": {
  "kernelspec": {
   "display_name": "Python 3 (ipykernel)",
   "language": "python",
   "name": "python3"
  },
  "language_info": {
   "codemirror_mode": {
    "name": "ipython",
    "version": 3
   },
   "file_extension": ".py",
   "mimetype": "text/x-python",
   "name": "python",
   "nbconvert_exporter": "python",
   "pygments_lexer": "ipython3",
   "version": "3.9.0"
  }
 },
 "nbformat": 4,
 "nbformat_minor": 5
}
