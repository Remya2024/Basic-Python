{
 "cells": [
  {
   "cell_type": "markdown",
   "id": "d93d81d5-67f6-4c76-8ea4-f7942a94fce0",
   "metadata": {},
   "source": [
    "# Empty Class"
   ]
  },
  {
   "cell_type": "code",
   "execution_count": 3,
   "id": "3bc78559-33b7-457d-abcc-c4ea7b60b836",
   "metadata": {},
   "outputs": [],
   "source": [
    "class Emp:\n",
    "    pass"
   ]
  },
  {
   "cell_type": "code",
   "execution_count": 4,
   "id": "216e4ceb-9466-4f66-9e23-941c70245642",
   "metadata": {},
   "outputs": [
    {
     "name": "stdout",
     "output_type": "stream",
     "text": [
      "Making phone calls\n"
     ]
    }
   ],
   "source": [
    "class Phone:\n",
    "    def make_call(self):\n",
    "        print(\"Making phone calls\")\n",
    "    def play_game(self):\n",
    "        print(\"Playing Game\")\n",
    "\n",
    "Samsung = Phone()\n",
    "Samsung.make_call()\n"
   ]
  },
  {
   "cell_type": "code",
   "execution_count": 5,
   "id": "3c5ff18a-1b95-4ec0-a6c6-36e0d0cf6ce4",
   "metadata": {},
   "outputs": [
    {
     "name": "stdout",
     "output_type": "stream",
     "text": [
      "Playing Game\n"
     ]
    }
   ],
   "source": [
    "Samsung.play_game()"
   ]
  },
  {
   "cell_type": "code",
   "execution_count": 16,
   "id": "9fb9d65f-a16a-40ff-af47-4f9303b49215",
   "metadata": {},
   "outputs": [],
   "source": [
    "class Phone:\n",
    "    def make_call(self):\n",
    "        print(\"Making phone calls\")\n",
    "    def play_game(self):\n",
    "        print(\"Playing Game\")\n",
    "    def assign_cost(self,a):\n",
    "        self.cost=a\n",
    "    def assign_color(self,b):\n",
    "        self.color=b\n",
    "    def show_cost(self):\n",
    "        return self.cost\n",
    "    def show_color(self):\n",
    "        return self.color"
   ]
  },
  {
   "cell_type": "code",
   "execution_count": 17,
   "id": "c44f9437-e41f-433c-a5cf-0d93851979aa",
   "metadata": {},
   "outputs": [
    {
     "name": "stdout",
     "output_type": "stream",
     "text": [
      "Making phone calls\n"
     ]
    }
   ],
   "source": [
    "Motorola = Phone()\n",
    "Motorola.make_call()"
   ]
  },
  {
   "cell_type": "code",
   "execution_count": 18,
   "id": "2e7ab82c-bd45-493a-9d65-6ec91b55ccb1",
   "metadata": {},
   "outputs": [
    {
     "name": "stdout",
     "output_type": "stream",
     "text": [
      "Playing Game\n"
     ]
    }
   ],
   "source": [
    "Motorola.play_game()"
   ]
  },
  {
   "cell_type": "code",
   "execution_count": 19,
   "id": "81751725-e220-4021-b5b2-518e42900cd6",
   "metadata": {},
   "outputs": [],
   "source": [
    "Motorola.assign_cost(60000)"
   ]
  },
  {
   "cell_type": "code",
   "execution_count": 20,
   "id": "59b8aa81-c901-4a1c-b3b7-830ab04541a2",
   "metadata": {},
   "outputs": [
    {
     "data": {
      "text/plain": [
       "60000"
      ]
     },
     "execution_count": 20,
     "metadata": {},
     "output_type": "execute_result"
    }
   ],
   "source": [
    "Motorola.show_cost()"
   ]
  },
  {
   "cell_type": "code",
   "execution_count": 21,
   "id": "13e56079-476d-4a9b-8357-1b06507d9375",
   "metadata": {},
   "outputs": [
    {
     "data": {
      "text/plain": [
       "'Blue'"
      ]
     },
     "execution_count": 21,
     "metadata": {},
     "output_type": "execute_result"
    }
   ],
   "source": [
    "Motorola.assign_color(\"Blue\")\n",
    "Motorola.show_color()"
   ]
  },
  {
   "cell_type": "markdown",
   "id": "7d674acc-b37f-4f26-8b1b-4729c325c84f",
   "metadata": {},
   "source": [
    "# Inheritance"
   ]
  },
  {
   "cell_type": "code",
   "execution_count": 22,
   "id": "66ea807b-e559-42e0-a7e8-bd4dc29408fe",
   "metadata": {},
   "outputs": [
    {
     "name": "stdout",
     "output_type": "stream",
     "text": [
      "Pro in history\n"
     ]
    }
   ],
   "source": [
    "#Single Inheritance\n",
    "\n",
    "class Parent:\n",
    "    def maths(self):\n",
    "        print(\"Excellent in Maths Subject\")\n",
    "\n",
    "class child(Parent):\n",
    "    def history(self):\n",
    "        print(\"Pro in history\")\n",
    "\n",
    "x = child()\n",
    "x.history()\n",
    "    "
   ]
  },
  {
   "cell_type": "code",
   "execution_count": 23,
   "id": "89a0b393-4d2c-43cd-8efb-b44a32f19160",
   "metadata": {},
   "outputs": [
    {
     "name": "stdout",
     "output_type": "stream",
     "text": [
      "Excellent in Maths Subject\n"
     ]
    }
   ],
   "source": [
    "y = Parent()\n",
    "y.maths()"
   ]
  },
  {
   "cell_type": "code",
   "execution_count": 24,
   "id": "991297a6-812f-4433-97d4-a64f2752e35a",
   "metadata": {},
   "outputs": [
    {
     "name": "stdout",
     "output_type": "stream",
     "text": [
      "Excellent in Maths Subject\n"
     ]
    }
   ],
   "source": [
    "x.maths()"
   ]
  },
  {
   "cell_type": "code",
   "execution_count": 30,
   "id": "341d5350-0388-411b-95f6-369a1f188b6d",
   "metadata": {},
   "outputs": [],
   "source": [
    "# Multiple Inheritance\n",
    "\n",
    "class Parent1:\n",
    "    def maths(self):\n",
    "        print(\"Excellent in Maths Subject\")\n",
    "        \n",
    "class Parent2:\n",
    "    def physics(self):\n",
    "        print(\"Excellent in Physics Subject\")\n",
    "        \n",
    "class child(Parent1,Parent2):\n",
    "    def history(self):\n",
    "        print(\"Pro in history\")"
   ]
  },
  {
   "cell_type": "code",
   "execution_count": 31,
   "id": "bd362e1b-b015-48ed-8044-23dd55114445",
   "metadata": {},
   "outputs": [
    {
     "name": "stdout",
     "output_type": "stream",
     "text": [
      "Pro in history\n"
     ]
    }
   ],
   "source": [
    "x = child()\n",
    "x.history()"
   ]
  },
  {
   "cell_type": "code",
   "execution_count": 32,
   "id": "96bc4ba5-1a76-410f-8299-540ddd441111",
   "metadata": {},
   "outputs": [
    {
     "name": "stdout",
     "output_type": "stream",
     "text": [
      "Excellent in Physics Subject\n"
     ]
    }
   ],
   "source": [
    "x.physics()"
   ]
  },
  {
   "cell_type": "code",
   "execution_count": 33,
   "id": "003add48-4a55-4cfb-bd97-aca6c639d8ea",
   "metadata": {},
   "outputs": [
    {
     "name": "stdout",
     "output_type": "stream",
     "text": [
      "Excellent in Maths Subject\n"
     ]
    }
   ],
   "source": [
    "x.maths()"
   ]
  },
  {
   "cell_type": "code",
   "execution_count": 34,
   "id": "b080582d-e5eb-4a50-9e5e-9a68b817f95a",
   "metadata": {},
   "outputs": [],
   "source": [
    "# Multilevel Inheritance\n",
    "\n",
    "class GrandParent:\n",
    "    def economics(self):\n",
    "        print(\"Excellent in Economics Subject\")\n",
    "\n",
    "class Parent(GrandParent):\n",
    "    def maths(self):\n",
    "        print(\"Excellent in Maths Subject\")\n",
    "\n",
    "class child(Parent):\n",
    "    def history(self):\n",
    "        print(\"Pro in history\")"
   ]
  },
  {
   "cell_type": "code",
   "execution_count": 35,
   "id": "972063a1-7f66-4820-875e-0dbebaccad7c",
   "metadata": {},
   "outputs": [
    {
     "name": "stdout",
     "output_type": "stream",
     "text": [
      "Pro in history\n"
     ]
    }
   ],
   "source": [
    "x = child()\n",
    "x.history()"
   ]
  },
  {
   "cell_type": "code",
   "execution_count": 36,
   "id": "04256b0a-5657-42a6-a508-40c2c0df2672",
   "metadata": {},
   "outputs": [
    {
     "name": "stdout",
     "output_type": "stream",
     "text": [
      "Excellent in Maths Subject\n"
     ]
    }
   ],
   "source": [
    "x.maths()"
   ]
  },
  {
   "cell_type": "code",
   "execution_count": 37,
   "id": "d450c6bd-60d4-4694-9169-aec2c09ae03f",
   "metadata": {},
   "outputs": [
    {
     "name": "stdout",
     "output_type": "stream",
     "text": [
      "Excellent in Economics Subject\n"
     ]
    }
   ],
   "source": [
    "x.economics()"
   ]
  },
  {
   "cell_type": "code",
   "execution_count": 38,
   "id": "4aed9789-ba3b-4218-9cf7-b7b1e9e4559c",
   "metadata": {},
   "outputs": [],
   "source": [
    "# Hierachial Inheritance\n",
    "\n",
    "class Parent():\n",
    "    def maths(self):\n",
    "        print(\"Excellent in Maths Subject\")\n",
    "\n",
    "class child1(Parent):\n",
    "    def history(self):\n",
    "        print(\"Pro in history\")\n",
    "\n",
    "class child2(Parent):\n",
    "    def politics(self):\n",
    "        print(\"Pro in politics\")"
   ]
  },
  {
   "cell_type": "code",
   "execution_count": 39,
   "id": "f9135fa5-e56e-4c41-b225-b20a717e89a5",
   "metadata": {},
   "outputs": [
    {
     "name": "stdout",
     "output_type": "stream",
     "text": [
      "Excellent in Maths Subject\n"
     ]
    }
   ],
   "source": [
    "a = child1()\n",
    "a.maths()"
   ]
  },
  {
   "cell_type": "code",
   "execution_count": 40,
   "id": "7acbb763-af33-4b1a-bb41-697183842d05",
   "metadata": {},
   "outputs": [
    {
     "name": "stdout",
     "output_type": "stream",
     "text": [
      "Pro in history\n"
     ]
    }
   ],
   "source": [
    "a.history()"
   ]
  },
  {
   "cell_type": "code",
   "execution_count": 41,
   "id": "d95eb712-2998-452c-9ce1-3557371ebaa9",
   "metadata": {},
   "outputs": [
    {
     "ename": "AttributeError",
     "evalue": "'child1' object has no attribute 'politics'",
     "output_type": "error",
     "traceback": [
      "\u001b[1;31m---------------------------------------------------------------------------\u001b[0m",
      "\u001b[1;31mAttributeError\u001b[0m                            Traceback (most recent call last)",
      "Cell \u001b[1;32mIn[41], line 1\u001b[0m\n\u001b[1;32m----> 1\u001b[0m \u001b[43ma\u001b[49m\u001b[38;5;241;43m.\u001b[39;49m\u001b[43mpolitics\u001b[49m()\n",
      "\u001b[1;31mAttributeError\u001b[0m: 'child1' object has no attribute 'politics'"
     ]
    }
   ],
   "source": [
    "a.politics()"
   ]
  },
  {
   "cell_type": "code",
   "execution_count": 42,
   "id": "1595588a-49f5-42ae-ac7b-c88970f3d61d",
   "metadata": {},
   "outputs": [
    {
     "name": "stdout",
     "output_type": "stream",
     "text": [
      "Excellent in Maths Subject\n"
     ]
    }
   ],
   "source": [
    "b = child2()\n",
    "b.maths()"
   ]
  },
  {
   "cell_type": "code",
   "execution_count": 43,
   "id": "b25584cc-3134-44c1-b585-acf9ecf50636",
   "metadata": {},
   "outputs": [
    {
     "ename": "AttributeError",
     "evalue": "'child2' object has no attribute 'history'",
     "output_type": "error",
     "traceback": [
      "\u001b[1;31m---------------------------------------------------------------------------\u001b[0m",
      "\u001b[1;31mAttributeError\u001b[0m                            Traceback (most recent call last)",
      "Cell \u001b[1;32mIn[43], line 1\u001b[0m\n\u001b[1;32m----> 1\u001b[0m \u001b[43mb\u001b[49m\u001b[38;5;241;43m.\u001b[39;49m\u001b[43mhistory\u001b[49m()\n",
      "\u001b[1;31mAttributeError\u001b[0m: 'child2' object has no attribute 'history'"
     ]
    }
   ],
   "source": [
    "b.history()"
   ]
  },
  {
   "cell_type": "code",
   "execution_count": 44,
   "id": "47c21760-4c39-4b52-8e61-8db8401bee66",
   "metadata": {},
   "outputs": [
    {
     "name": "stdout",
     "output_type": "stream",
     "text": [
      "Pro in politics\n"
     ]
    }
   ],
   "source": [
    "b.politics()"
   ]
  },
  {
   "cell_type": "code",
   "execution_count": 51,
   "id": "5b54c9ad-e11d-4b7f-a9ac-492a976c05b6",
   "metadata": {},
   "outputs": [],
   "source": [
    "# Hybrid Inheritance\n",
    "\n",
    "class GrandParent:\n",
    "    def economics(self):\n",
    "        print(\"Excellent in Economics Subject\")\n",
    "\n",
    "class Parent1(GrandParent):\n",
    "    def maths(self):\n",
    "        print(\"Excellent in Maths Subject\")\n",
    "\n",
    "class Parent2:\n",
    "    def physics(self):\n",
    "        print(\"Excellent in Physics Subject\")\n",
    "\n",
    "class child(Parent1,Parent2):\n",
    "    def history(self):\n",
    "        print(\"Pro in history\")"
   ]
  },
  {
   "cell_type": "code",
   "execution_count": 52,
   "id": "80ac501d-0769-4e6b-b76c-a280ea084d24",
   "metadata": {},
   "outputs": [
    {
     "name": "stdout",
     "output_type": "stream",
     "text": [
      "Excellent in Economics Subject\n"
     ]
    }
   ],
   "source": [
    "x = child()\n",
    "x.economics()"
   ]
  },
  {
   "cell_type": "code",
   "execution_count": 54,
   "id": "a3250fc0-fd9a-4515-8462-f1014d6be59d",
   "metadata": {},
   "outputs": [
    {
     "name": "stdout",
     "output_type": "stream",
     "text": [
      "Excellent in Maths Subject\n"
     ]
    }
   ],
   "source": [
    "x.maths()"
   ]
  },
  {
   "cell_type": "code",
   "execution_count": 55,
   "id": "a6f7ee07-6f16-49c9-befc-6f5f3b453065",
   "metadata": {},
   "outputs": [
    {
     "name": "stdout",
     "output_type": "stream",
     "text": [
      "Excellent in Physics Subject\n"
     ]
    }
   ],
   "source": [
    "x.physics()"
   ]
  },
  {
   "cell_type": "code",
   "execution_count": 56,
   "id": "ec370dda-552c-4c08-81fd-adcb16aa6285",
   "metadata": {},
   "outputs": [
    {
     "name": "stdout",
     "output_type": "stream",
     "text": [
      "Pro in history\n"
     ]
    }
   ],
   "source": [
    "x.history()"
   ]
  },
  {
   "cell_type": "markdown",
   "id": "d0b4c3ba-b7a3-4b0c-b52c-17de2e44ad3a",
   "metadata": {},
   "source": [
    "# Constructor"
   ]
  },
  {
   "cell_type": "code",
   "execution_count": 1,
   "id": "b1c17ced-a23e-465d-83f1-da666d753e7e",
   "metadata": {},
   "outputs": [],
   "source": [
    "class Person:\n",
    "    def __init__(self,n,a):\n",
    "        self.name = n\n",
    "        self.age = a\n",
    "    def display(self):\n",
    "        print(f\"Name:{self.name}, Age:{self.age}\")"
   ]
  },
  {
   "cell_type": "code",
   "execution_count": 2,
   "id": "94631f4e-fe74-4440-aee0-8e706750e836",
   "metadata": {},
   "outputs": [
    {
     "name": "stdout",
     "output_type": "stream",
     "text": [
      "Name:Aditya, Age:24\n"
     ]
    }
   ],
   "source": [
    "p1 = Person(\"Aditya\",24)\n",
    "p1.display()"
   ]
  },
  {
   "cell_type": "code",
   "execution_count": 3,
   "id": "cbbcfdfc-68a5-4c0c-a5ec-e4f061d13ee0",
   "metadata": {},
   "outputs": [
    {
     "name": "stdout",
     "output_type": "stream",
     "text": [
      "Name:Afra, Age:26\n"
     ]
    }
   ],
   "source": [
    "p2 = Person(\"Afra\", 26)\n",
    "p2.display()"
   ]
  },
  {
   "cell_type": "markdown",
   "id": "7f20d06c-b099-4d7d-9b37-2e250789ee95",
   "metadata": {},
   "source": [
    "# Ecapsulation"
   ]
  },
  {
   "cell_type": "code",
   "execution_count": 4,
   "id": "0d065f50-93d2-4d5c-806d-66708f31be97",
   "metadata": {},
   "outputs": [
    {
     "name": "stdout",
     "output_type": "stream",
     "text": [
      "I am Public Variable\n"
     ]
    }
   ],
   "source": [
    "class MyClass:\n",
    "    def __init__(self):\n",
    "        self.publicvar = \"I am Public Variable\"\n",
    "        self._protectedvar = \"I am Protected Variable\"\n",
    "        self.__privatevar = \"I am Private Variable\"\n",
    "\n",
    "o1 = MyClass()\n",
    "\n",
    "print(o1.publicvar)"
   ]
  },
  {
   "cell_type": "code",
   "execution_count": 5,
   "id": "7e27295d-6308-4b3a-b5df-14196686528d",
   "metadata": {},
   "outputs": [
    {
     "name": "stdout",
     "output_type": "stream",
     "text": [
      "I am Protected Variable\n"
     ]
    }
   ],
   "source": [
    "print(o1._protectedvar)"
   ]
  },
  {
   "cell_type": "code",
   "execution_count": 6,
   "id": "607db578-6119-4749-97e7-a8fd2c8ec771",
   "metadata": {},
   "outputs": [
    {
     "ename": "AttributeError",
     "evalue": "'MyClass' object has no attribute '__privatevar'",
     "output_type": "error",
     "traceback": [
      "\u001b[1;31m---------------------------------------------------------------------------\u001b[0m",
      "\u001b[1;31mAttributeError\u001b[0m                            Traceback (most recent call last)",
      "Cell \u001b[1;32mIn[6], line 1\u001b[0m\n\u001b[1;32m----> 1\u001b[0m \u001b[38;5;28mprint\u001b[39m(\u001b[43mo1\u001b[49m\u001b[38;5;241;43m.\u001b[39;49m\u001b[43m__privatevar\u001b[49m)\n",
      "\u001b[1;31mAttributeError\u001b[0m: 'MyClass' object has no attribute '__privatevar'"
     ]
    }
   ],
   "source": [
    "print(o1.__privatevar)"
   ]
  },
  {
   "cell_type": "code",
   "execution_count": null,
   "id": "ce7bc134-06b4-449c-86fd-b110cfeef3f6",
   "metadata": {},
   "outputs": [],
   "source": []
  }
 ],
 "metadata": {
  "kernelspec": {
   "display_name": "Python 3 (ipykernel)",
   "language": "python",
   "name": "python3"
  },
  "language_info": {
   "codemirror_mode": {
    "name": "ipython",
    "version": 3
   },
   "file_extension": ".py",
   "mimetype": "text/x-python",
   "name": "python",
   "nbconvert_exporter": "python",
   "pygments_lexer": "ipython3",
   "version": "3.9.0"
  }
 },
 "nbformat": 4,
 "nbformat_minor": 5
}
