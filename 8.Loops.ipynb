{
 "cells": [
  {
   "cell_type": "markdown",
   "id": "7e2be31b",
   "metadata": {},
   "source": [
    "# For Loop"
   ]
  },
  {
   "cell_type": "markdown",
   "id": "4970092e",
   "metadata": {},
   "source": [
    "## Simple for loop"
   ]
  },
  {
   "cell_type": "code",
   "execution_count": 2,
   "id": "f1930e3a",
   "metadata": {},
   "outputs": [
    {
     "name": "stdout",
     "output_type": "stream",
     "text": [
      "0\n",
      "1\n",
      "2\n",
      "3\n",
      "4\n",
      "5\n",
      "6\n",
      "7\n",
      "8\n",
      "9\n",
      "10\n"
     ]
    }
   ],
   "source": [
    "for i in range(0, 11):\n",
    "    print(i)"
   ]
  },
  {
   "cell_type": "code",
   "execution_count": 3,
   "id": "41fc1862",
   "metadata": {},
   "outputs": [
    {
     "name": "stdout",
     "output_type": "stream",
     "text": [
      "1\n",
      "2\n",
      "3\n",
      "4\n",
      "5\n",
      "6\n",
      "7\n",
      "8\n",
      "9\n",
      "10\n"
     ]
    }
   ],
   "source": [
    "for i in range(1, 11):\n",
    "    print(i)"
   ]
  },
  {
   "cell_type": "markdown",
   "id": "838d7318",
   "metadata": {},
   "source": [
    "# For Loop Application - Multiplication Table"
   ]
  },
  {
   "cell_type": "code",
   "execution_count": 2,
   "id": "9bfef359",
   "metadata": {},
   "outputs": [
    {
     "name": "stdout",
     "output_type": "stream",
     "text": [
      "16 X 1 = 16\n",
      "16 X 2 = 32\n",
      "16 X 3 = 48\n",
      "16 X 4 = 64\n",
      "16 X 5 = 80\n",
      "16 X 6 = 96\n",
      "16 X 7 = 112\n",
      "16 X 8 = 128\n",
      "16 X 9 = 144\n",
      "16 X 10 = 160\n"
     ]
    }
   ],
   "source": [
    "for i in range(1, 11): # (11 here is out of bound)\n",
    "    print(f\"16 X {i} = {16*i}\")"
   ]
  },
  {
   "cell_type": "code",
   "execution_count": 5,
   "id": "31344315",
   "metadata": {},
   "outputs": [
    {
     "name": "stdout",
     "output_type": "stream",
     "text": [
      "2 x 1 = 2\n",
      "2 x 2 = 4\n",
      "2 x 3 = 6\n",
      "2 x 4 = 8\n",
      "2 x 5 = 10\n",
      "2 x 6 = 12\n",
      "2 x 7 = 14\n",
      "2 x 8 = 16\n",
      "2 x 9 = 18\n",
      "2 x 10 = 20\n"
     ]
    }
   ],
   "source": [
    "number = 2\n",
    "i = 1\n",
    "\n",
    "while i <= 10:\n",
    "    result = number * i\n",
    "    print(f\"{number} x {i} = {result}\")\n",
    "    i += 1"
   ]
  },
  {
   "cell_type": "markdown",
   "id": "2d1fdd99",
   "metadata": {},
   "source": [
    "# Use of Break in For Loop"
   ]
  },
  {
   "cell_type": "code",
   "execution_count": 9,
   "id": "b329119e",
   "metadata": {},
   "outputs": [
    {
     "name": "stdout",
     "output_type": "stream",
     "text": [
      "1\n",
      "2\n",
      "3\n",
      "4\n"
     ]
    }
   ],
   "source": [
    "for i in range(1, 10):\n",
    "    if i >= 5:\n",
    "        break\n",
    "    print(i)"
   ]
  },
  {
   "cell_type": "markdown",
   "id": "dc015d7a",
   "metadata": {},
   "source": [
    "# Use of Continue in For Loop"
   ]
  },
  {
   "cell_type": "code",
   "execution_count": 3,
   "id": "bfbb6767",
   "metadata": {},
   "outputs": [
    {
     "name": "stdout",
     "output_type": "stream",
     "text": [
      "1\n",
      "3\n",
      "5\n",
      "7\n",
      "9\n",
      "11\n",
      "13\n",
      "15\n",
      "17\n",
      "19\n"
     ]
    }
   ],
   "source": [
    "for i in range(1, 20):\n",
    "    if i%2==0: # if n.o. is even then start the loop again\n",
    "        continue\n",
    "    print(i)"
   ]
  },
  {
   "cell_type": "markdown",
   "id": "f163b0e2",
   "metadata": {},
   "source": [
    "# For Loop in List"
   ]
  },
  {
   "cell_type": "code",
   "execution_count": 6,
   "id": "96a3909c",
   "metadata": {},
   "outputs": [
    {
     "data": {
      "text/plain": [
       "[0, 1, 4, 9, 16, 25, 36, 49, 64, 81]"
      ]
     },
     "execution_count": 6,
     "metadata": {},
     "output_type": "execute_result"
    }
   ],
   "source": [
    "x = [i**2 for i in range(10)]\n",
    "x"
   ]
  },
  {
   "cell_type": "code",
   "execution_count": 12,
   "id": "a298b15e",
   "metadata": {},
   "outputs": [
    {
     "data": {
      "text/plain": [
       "[0, 1, 4, 9, 16, 25, 36, 49, 64, 81]"
      ]
     },
     "execution_count": 12,
     "metadata": {},
     "output_type": "execute_result"
    }
   ],
   "source": [
    "[i**2 for i in range(10)]"
   ]
  },
  {
   "cell_type": "code",
   "execution_count": 13,
   "id": "bdb9f2bc",
   "metadata": {},
   "outputs": [
    {
     "name": "stdout",
     "output_type": "stream",
     "text": [
      "1 \n",
      "1 2 \n",
      "1 2 3 \n",
      "1 2 3 4 \n",
      "1 2 3 4 5 \n"
     ]
    }
   ],
   "source": [
    "for i in range(1, 6):   # Outer loop\n",
    "    for j in range(1, i + 1):   # Inner loop\n",
    "        print(j, end=\" \")\n",
    "    print()"
   ]
  },
  {
   "cell_type": "code",
   "execution_count": 14,
   "id": "e7d04ef4",
   "metadata": {},
   "outputs": [
    {
     "name": "stdout",
     "output_type": "stream",
     "text": [
      "* * * * * \n",
      "* * * * * \n",
      "* * * * * \n",
      "* * * * * \n",
      "* * * * * \n"
     ]
    }
   ],
   "source": [
    "size = 5\n",
    "\n",
    "for i in range(size):\n",
    "    for j in range(size):\n",
    "        print(\"*\", end=\" \")\n",
    "    print()"
   ]
  },
  {
   "cell_type": "code",
   "execution_count": 16,
   "id": "7e7d6d9e",
   "metadata": {},
   "outputs": [
    {
     "name": "stdout",
     "output_type": "stream",
     "text": [
      "Enter the width of the rectangle: 5\n",
      "Enter the height of the rectangle: 3\n",
      "* * * * * \n",
      "* * * * * \n",
      "* * * * * \n"
     ]
    }
   ],
   "source": [
    "width = int(input(\"Enter the width of the rectangle: \"))\n",
    "height = int(input(\"Enter the height of the rectangle: \"))\n",
    "\n",
    "for i in range(height):\n",
    "    for j in range(width):\n",
    "        print(\"*\", end=\" \")\n",
    "    print()"
   ]
  },
  {
   "cell_type": "code",
   "execution_count": 17,
   "id": "dc96e880",
   "metadata": {},
   "outputs": [
    {
     "name": "stdout",
     "output_type": "stream",
     "text": [
      "        * \n",
      "      * * * \n",
      "    * * * * * \n",
      "  * * * * * * * \n",
      "* * * * * * * * * \n"
     ]
    }
   ],
   "source": [
    "size = 5\n",
    "\n",
    "for i in range(size):\n",
    "    for j in range(size - i - 1):\n",
    "        print(\" \", end=\" \")\n",
    "    for k in range(2 * i + 1):\n",
    "        print(\"*\", end=\" \")\n",
    "    print()"
   ]
  },
  {
   "cell_type": "code",
   "execution_count": 18,
   "id": "4528b084",
   "metadata": {},
   "outputs": [
    {
     "name": "stdout",
     "output_type": "stream",
     "text": [
      "       *******       \n",
      "     **       **     \n",
      "    *           *    \n",
      "   *             *   \n",
      "  *               *  \n",
      " *                 * \n",
      " *                 * \n",
      "*                   *\n",
      "*                   *\n",
      "*                   *\n",
      "*                   *\n",
      "*                   *\n",
      "*                   *\n",
      "*                   *\n",
      " *                 * \n",
      " *                 * \n",
      "  *               *  \n",
      "   *             *   \n",
      "    *           *    \n",
      "     **       **     \n",
      "       *******       \n"
     ]
    }
   ],
   "source": [
    "import math\n",
    "\n",
    "radius = 10\n",
    "\n",
    "for y in range(-radius, radius + 1):\n",
    "    for x in range(-radius, radius + 1):\n",
    "        distance = math.sqrt(x**2 + y**2)\n",
    "        if abs(distance - radius) < 0.5:\n",
    "            print(\"*\", end=\"\")\n",
    "        else:\n",
    "            print(\" \", end=\"\")\n",
    "    print()"
   ]
  },
  {
   "cell_type": "code",
   "execution_count": 19,
   "id": "62208ffb",
   "metadata": {},
   "outputs": [
    {
     "name": "stdout",
     "output_type": "stream",
     "text": [
      "          *          \n",
      "      *********      \n",
      "    *************    \n",
      "   ***************   \n",
      "  *****************  \n",
      "  *****************  \n",
      " ******************* \n",
      " ******************* \n",
      " ******************* \n",
      " ******************* \n",
      "*********************\n",
      " ******************* \n",
      " ******************* \n",
      " ******************* \n",
      " ******************* \n",
      "  *****************  \n",
      "  *****************  \n",
      "   ***************   \n",
      "    *************    \n",
      "      *********      \n",
      "          *          \n"
     ]
    }
   ],
   "source": [
    "import math\n",
    "\n",
    "radius = 10\n",
    "\n",
    "for y in range(-radius, radius + 1):\n",
    "    for x in range(-radius, radius + 1):\n",
    "        distance = math.sqrt(x**2 + y**2)\n",
    "        if distance <= radius:\n",
    "            print(\"*\", end=\"\")\n",
    "        else:\n",
    "            print(\" \", end=\"\")\n",
    "    print()"
   ]
  },
  {
   "cell_type": "code",
   "execution_count": 20,
   "id": "357a8bc0",
   "metadata": {},
   "outputs": [
    {
     "name": "stdout",
     "output_type": "stream",
     "text": [
      "    *\n",
      "   ***\n",
      "  *****\n",
      " *******\n",
      "*********\n"
     ]
    }
   ],
   "source": [
    "height = 5\n",
    "\n",
    "for i in range(height):\n",
    "    print(\" \" * (height - i - 1) + \"*\" * (2 * i + 1))"
   ]
  },
  {
   "cell_type": "code",
   "execution_count": 21,
   "id": "4b3242f8",
   "metadata": {},
   "outputs": [
    {
     "name": "stdout",
     "output_type": "stream",
     "text": [
      "    *\n",
      "   **\n",
      "  ***\n",
      " ****\n",
      "*****\n",
      " ****\n",
      "  ***\n",
      "   **\n",
      "    *\n"
     ]
    }
   ],
   "source": [
    "size = 5\n",
    "\n",
    "for i in range(size):\n",
    "    print(\" \" * (size - i - 1) + \"*\" * (i + 1))\n",
    "\n",
    "for i in range(size - 2, -1, -1):\n",
    "    print(\" \" * (size - i - 1) + \"*\" * (i + 1))"
   ]
  },
  {
   "cell_type": "markdown",
   "id": "133d9707-9008-4e58-8bb1-593097a5df8d",
   "metadata": {},
   "source": [
    "# Iterating through the list"
   ]
  },
  {
   "cell_type": "code",
   "execution_count": 2,
   "id": "e1da34fc-2381-4f28-972d-7ee94d552e77",
   "metadata": {},
   "outputs": [
    {
     "name": "stdout",
     "output_type": "stream",
     "text": [
      "1\n",
      "2\n",
      "3\n",
      "4\n"
     ]
    }
   ],
   "source": [
    "x = [1,2,3,4]\n",
    "\n",
    "for i in x:\n",
    "    print(i)"
   ]
  },
  {
   "cell_type": "code",
   "execution_count": null,
   "id": "8e224fdf-6d25-4999-aca3-898c27689f2c",
   "metadata": {},
   "outputs": [],
   "source": []
  }
 ],
 "metadata": {
  "kernelspec": {
   "display_name": "Python 3 (ipykernel)",
   "language": "python",
   "name": "python3"
  },
  "language_info": {
   "codemirror_mode": {
    "name": "ipython",
    "version": 3
   },
   "file_extension": ".py",
   "mimetype": "text/x-python",
   "name": "python",
   "nbconvert_exporter": "python",
   "pygments_lexer": "ipython3",
   "version": "3.9.0"
  }
 },
 "nbformat": 4,
 "nbformat_minor": 5
}
