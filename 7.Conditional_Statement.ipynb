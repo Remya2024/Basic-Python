{
 "cells": [
  {
   "cell_type": "code",
   "execution_count": 1,
   "id": "2a6b8a6c-7b18-4600-ad40-d268254219d5",
   "metadata": {},
   "outputs": [],
   "source": [
    "passing_marks = 33\n",
    "distinction_marks = 80"
   ]
  },
  {
   "cell_type": "code",
   "execution_count": 13,
   "id": "61e1a235-1cf6-4c13-9d07-11965ea6dcfc",
   "metadata": {},
   "outputs": [
    {
     "name": "stdin",
     "output_type": "stream",
     "text": [
      "Enter your score 90\n"
     ]
    }
   ],
   "source": [
    "score = int(input(\"Enter your score\"))"
   ]
  },
  {
   "cell_type": "code",
   "execution_count": 14,
   "id": "76e3c489-e7fb-4373-a3f1-6bd573cbe397",
   "metadata": {},
   "outputs": [
    {
     "data": {
      "text/plain": [
       "90"
      ]
     },
     "execution_count": 14,
     "metadata": {},
     "output_type": "execute_result"
    }
   ],
   "source": [
    "score"
   ]
  },
  {
   "cell_type": "markdown",
   "id": "36195e29-28c4-4253-8aa3-1a455ef531db",
   "metadata": {},
   "source": [
    "# if"
   ]
  },
  {
   "cell_type": "code",
   "execution_count": 6,
   "id": "06888b34-8d74-4351-9f7b-25c52ea5b888",
   "metadata": {},
   "outputs": [],
   "source": [
    "if score>=passing_marks:\n",
    "    print(\"you have passed the exam\")"
   ]
  },
  {
   "cell_type": "markdown",
   "id": "c8471d68-8908-4f0a-ab59-c7a66f7b274e",
   "metadata": {},
   "source": [
    "# if else"
   ]
  },
  {
   "cell_type": "code",
   "execution_count": 7,
   "id": "6a5b012d-7a68-4b7c-92cb-2ba4c1d823c1",
   "metadata": {},
   "outputs": [
    {
     "name": "stdout",
     "output_type": "stream",
     "text": [
      "Unfourtunately you failed the exam!!\n"
     ]
    }
   ],
   "source": [
    "if score>=passing_marks:\n",
    "    print(\"You have passed the exam\")\n",
    "else:\n",
    "    print(\"Unfourtunately you failed the exam!!\")"
   ]
  },
  {
   "cell_type": "markdown",
   "id": "b476e393-03b8-4a09-96a7-33d1338ef313",
   "metadata": {},
   "source": [
    "# if elif else "
   ]
  },
  {
   "cell_type": "code",
   "execution_count": 16,
   "id": "dedf7b6d-5413-41bd-87d5-a61f0cae7b85",
   "metadata": {},
   "outputs": [
    {
     "name": "stdout",
     "output_type": "stream",
     "text": [
      "Congratulations!!  You got the scholarship\n",
      "you have passed the exam\n"
     ]
    }
   ],
   "source": [
    "if score>=distinction_marks:\n",
    "    print(\"Congratulations!!  You got the scholarship\")\n",
    "elif score>=passing_marks:\n",
    "    print(\"you have passed the exam\")\n",
    "else:\n",
    "    print(\"Unfourtunately you failed the exam!!\")\n"
   ]
  },
  {
   "cell_type": "markdown",
   "id": "64cd629c-b2c5-44bd-9371-3084c421b98b",
   "metadata": {},
   "source": [
    "# Nested if"
   ]
  },
  {
   "cell_type": "code",
   "execution_count": 17,
   "id": "b8edecdd-869b-4f00-97a8-98a16b2a186b",
   "metadata": {},
   "outputs": [
    {
     "name": "stdout",
     "output_type": "stream",
     "text": [
      "you have passed the exam\n",
      "Congratulations!!  You got the scholarship\n"
     ]
    }
   ],
   "source": [
    "if score>=passing_marks:\n",
    "    print(\"you have passed the exam\")\n",
    "    if score>=distinction_marks:\n",
    "        print(\"Congratulations!!  You got the scholarship\")\n",
    "else:\n",
    "    print(\"Unfourtunately you failed the exam!!\")"
   ]
  },
  {
   "cell_type": "code",
   "execution_count": 1,
   "id": "a891c2e9-44e2-4493-b6b9-f21205d172fc",
   "metadata": {},
   "outputs": [
    {
     "name": "stdin",
     "output_type": "stream",
     "text": [
      "Enter a word 121\n"
     ]
    },
    {
     "name": "stdout",
     "output_type": "stream",
     "text": [
      "Its a palindrome\n"
     ]
    }
   ],
   "source": [
    "data = input(\"Enter a word\")\n",
    "rev = data[::-1]\n",
    "\n",
    "if data==rev:\n",
    "    print(\"Its a palindrome\")\n",
    "else:\n",
    "    print(\"Its not a palindrome\")\n"
   ]
  },
  {
   "cell_type": "code",
   "execution_count": 2,
   "id": "365e136e-2dd1-46c4-ac12-3c4e59e18989",
   "metadata": {},
   "outputs": [],
   "source": [
    "x = 5"
   ]
  },
  {
   "cell_type": "code",
   "execution_count": 3,
   "id": "ea8cccce-3b50-4364-a2e1-c6c254df5342",
   "metadata": {},
   "outputs": [
    {
     "data": {
      "text/plain": [
       "5"
      ]
     },
     "execution_count": 3,
     "metadata": {},
     "output_type": "execute_result"
    }
   ],
   "source": [
    "x"
   ]
  },
  {
   "cell_type": "code",
   "execution_count": 4,
   "id": "8e9927ff-1ab9-4ce0-a2b5-4a6c2b5e85ad",
   "metadata": {},
   "outputs": [
    {
     "data": {
      "text/plain": [
       "9"
      ]
     },
     "execution_count": 4,
     "metadata": {},
     "output_type": "execute_result"
    }
   ],
   "source": [
    "x+=4\n",
    "x"
   ]
  },
  {
   "cell_type": "code",
   "execution_count": null,
   "id": "e292e18d-9495-45ea-8d4c-9a485311c72e",
   "metadata": {},
   "outputs": [],
   "source": []
  }
 ],
 "metadata": {
  "kernelspec": {
   "display_name": "Python 3 (ipykernel)",
   "language": "python",
   "name": "python3"
  },
  "language_info": {
   "codemirror_mode": {
    "name": "ipython",
    "version": 3
   },
   "file_extension": ".py",
   "mimetype": "text/x-python",
   "name": "python",
   "nbconvert_exporter": "python",
   "pygments_lexer": "ipython3",
   "version": "3.9.0"
  }
 },
 "nbformat": 4,
 "nbformat_minor": 5
}
