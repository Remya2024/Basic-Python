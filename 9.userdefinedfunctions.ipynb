{
 "cells": [
  {
   "cell_type": "code",
   "execution_count": 2,
   "id": "dd9f328f-6229-4d7f-8d2d-bc1fd164e3de",
   "metadata": {},
   "outputs": [],
   "source": [
    "def f1():\n",
    "    pass"
   ]
  },
  {
   "cell_type": "code",
   "execution_count": 3,
   "id": "7eec2e91-a67b-4802-b7e7-febe8ad06bb8",
   "metadata": {},
   "outputs": [],
   "source": [
    "def f2():\n",
    "    print(\"python\")"
   ]
  },
  {
   "cell_type": "code",
   "execution_count": 4,
   "id": "38dd0e51-f645-464c-bf06-f4f66f192fd5",
   "metadata": {},
   "outputs": [
    {
     "name": "stdout",
     "output_type": "stream",
     "text": [
      "python\n"
     ]
    }
   ],
   "source": [
    "f2()"
   ]
  },
  {
   "cell_type": "code",
   "execution_count": 5,
   "id": "821e0a69-8940-49a6-b5c8-dc497a9f9a4a",
   "metadata": {},
   "outputs": [
    {
     "data": {
      "text/plain": [
       "function"
      ]
     },
     "execution_count": 5,
     "metadata": {},
     "output_type": "execute_result"
    }
   ],
   "source": [
    "type(f2)"
   ]
  },
  {
   "cell_type": "code",
   "execution_count": 6,
   "id": "939cb922-70cd-4e9d-8757-49f079fb47b3",
   "metadata": {},
   "outputs": [],
   "source": [
    "def f3():\n",
    "    print(\"class\")"
   ]
  },
  {
   "cell_type": "code",
   "execution_count": 7,
   "id": "3b7057f2-b24f-4440-8422-513bebfd1dd8",
   "metadata": {},
   "outputs": [
    {
     "name": "stdout",
     "output_type": "stream",
     "text": [
      "class\n"
     ]
    }
   ],
   "source": [
    "f3()"
   ]
  },
  {
   "cell_type": "code",
   "execution_count": 8,
   "id": "b273dd12-60cf-445f-a394-f2c4e4f4ee0a",
   "metadata": {},
   "outputs": [
    {
     "name": "stdout",
     "output_type": "stream",
     "text": [
      "python\n",
      "class\n"
     ]
    },
    {
     "ename": "TypeError",
     "evalue": "unsupported operand type(s) for +: 'NoneType' and 'NoneType'",
     "output_type": "error",
     "traceback": [
      "\u001b[1;31m---------------------------------------------------------------------------\u001b[0m",
      "\u001b[1;31mTypeError\u001b[0m                                 Traceback (most recent call last)",
      "Cell \u001b[1;32mIn[8], line 1\u001b[0m\n\u001b[1;32m----> 1\u001b[0m \u001b[43mf2\u001b[49m\u001b[43m(\u001b[49m\u001b[43m)\u001b[49m\u001b[38;5;241;43m+\u001b[39;49m\u001b[43mf3\u001b[49m\u001b[43m(\u001b[49m\u001b[43m)\u001b[49m\n",
      "\u001b[1;31mTypeError\u001b[0m: unsupported operand type(s) for +: 'NoneType' and 'NoneType'"
     ]
    }
   ],
   "source": [
    "f2()+f3()"
   ]
  },
  {
   "cell_type": "code",
   "execution_count": 9,
   "id": "c5202173-2ff7-4e1f-8f7c-d2158fdc9cec",
   "metadata": {},
   "outputs": [
    {
     "name": "stdout",
     "output_type": "stream",
     "text": [
      "python\n"
     ]
    },
    {
     "data": {
      "text/plain": [
       "NoneType"
      ]
     },
     "execution_count": 9,
     "metadata": {},
     "output_type": "execute_result"
    }
   ],
   "source": [
    "type(f2())"
   ]
  },
  {
   "cell_type": "code",
   "execution_count": 10,
   "id": "eb94deb5-b682-4eab-ba31-d0da3c7d3dc4",
   "metadata": {},
   "outputs": [
    {
     "name": "stdout",
     "output_type": "stream",
     "text": [
      "class\n"
     ]
    },
    {
     "data": {
      "text/plain": [
       "NoneType"
      ]
     },
     "execution_count": 10,
     "metadata": {},
     "output_type": "execute_result"
    }
   ],
   "source": [
    "type(f3())"
   ]
  },
  {
   "cell_type": "code",
   "execution_count": 11,
   "id": "62a01c6a-b1f7-4168-b08a-2336ed0571e7",
   "metadata": {},
   "outputs": [
    {
     "name": "stdout",
     "output_type": "stream",
     "text": [
      "\n"
     ]
    },
    {
     "data": {
      "text/plain": [
       "NoneType"
      ]
     },
     "execution_count": 11,
     "metadata": {},
     "output_type": "execute_result"
    }
   ],
   "source": [
    "type(print())"
   ]
  },
  {
   "cell_type": "code",
   "execution_count": 12,
   "id": "1aa3e0fb-d14b-4398-819a-8fb2422cd2c0",
   "metadata": {},
   "outputs": [],
   "source": [
    "def f4():\n",
    "    return \"python\""
   ]
  },
  {
   "cell_type": "code",
   "execution_count": 13,
   "id": "806dc0ec-9152-40f4-94c0-4e5c10b98bd7",
   "metadata": {},
   "outputs": [],
   "source": [
    "def f5():\n",
    "    return \"class\""
   ]
  },
  {
   "cell_type": "code",
   "execution_count": 14,
   "id": "b5a4bebf-8f04-4d81-8fc1-44cfa0f75dd2",
   "metadata": {},
   "outputs": [
    {
     "data": {
      "text/plain": [
       "'python'"
      ]
     },
     "execution_count": 14,
     "metadata": {},
     "output_type": "execute_result"
    }
   ],
   "source": [
    "f4()"
   ]
  },
  {
   "cell_type": "code",
   "execution_count": 15,
   "id": "be29bbfe-9730-4a34-a1ee-e0f281b4e7fb",
   "metadata": {},
   "outputs": [
    {
     "data": {
      "text/plain": [
       "'class'"
      ]
     },
     "execution_count": 15,
     "metadata": {},
     "output_type": "execute_result"
    }
   ],
   "source": [
    "f5()"
   ]
  },
  {
   "cell_type": "code",
   "execution_count": 16,
   "id": "6811ad10-8f03-4b20-bacc-e2ec75853073",
   "metadata": {},
   "outputs": [
    {
     "data": {
      "text/plain": [
       "str"
      ]
     },
     "execution_count": 16,
     "metadata": {},
     "output_type": "execute_result"
    }
   ],
   "source": [
    "type(f4())"
   ]
  },
  {
   "cell_type": "code",
   "execution_count": 17,
   "id": "b9d8a999-627d-414a-b53e-8ab595e93452",
   "metadata": {},
   "outputs": [
    {
     "data": {
      "text/plain": [
       "str"
      ]
     },
     "execution_count": 17,
     "metadata": {},
     "output_type": "execute_result"
    }
   ],
   "source": [
    "type(f5())"
   ]
  },
  {
   "cell_type": "code",
   "execution_count": 18,
   "id": "7f0d2676-1c0d-473b-93f4-10432de9d888",
   "metadata": {},
   "outputs": [
    {
     "data": {
      "text/plain": [
       "'pythonclass'"
      ]
     },
     "execution_count": 18,
     "metadata": {},
     "output_type": "execute_result"
    }
   ],
   "source": [
    "f4()+f5()"
   ]
  },
  {
   "cell_type": "code",
   "execution_count": 19,
   "id": "944b4e1f-6750-4ad9-95a1-5e42923ee49b",
   "metadata": {},
   "outputs": [],
   "source": [
    "def f5():\n",
    "    return 4"
   ]
  },
  {
   "cell_type": "code",
   "execution_count": 20,
   "id": "f61e2216-b2ec-49eb-9316-bf770f679f0b",
   "metadata": {},
   "outputs": [],
   "source": [
    "def f6():\n",
    "    return 7"
   ]
  },
  {
   "cell_type": "code",
   "execution_count": 25,
   "id": "ad085e4a-617f-4fd5-9aca-7c578c099e74",
   "metadata": {},
   "outputs": [
    {
     "data": {
      "text/plain": [
       "2401"
      ]
     },
     "execution_count": 25,
     "metadata": {},
     "output_type": "execute_result"
    }
   ],
   "source": [
    "f6()**f5()"
   ]
  },
  {
   "cell_type": "code",
   "execution_count": 33,
   "id": "626c5e45-dd06-41d6-a61c-6a996159016b",
   "metadata": {},
   "outputs": [],
   "source": [
    "def f7(a,b):\n",
    "    result = a+b\n",
    "    return result"
   ]
  },
  {
   "cell_type": "code",
   "execution_count": 34,
   "id": "d59a51fa-60a8-4aa0-8cd1-59fa08973475",
   "metadata": {},
   "outputs": [
    {
     "data": {
      "text/plain": [
       "['class', 1, 12, '7']"
      ]
     },
     "execution_count": 34,
     "metadata": {},
     "output_type": "execute_result"
    }
   ],
   "source": [
    "f7([\"class\",1],[12,\"7\"])"
   ]
  },
  {
   "cell_type": "code",
   "execution_count": 35,
   "id": "d3fab4cd-f313-4274-8249-0e5095629027",
   "metadata": {},
   "outputs": [],
   "source": [
    "def f8(a,b):\n",
    "    return a/b"
   ]
  },
  {
   "cell_type": "code",
   "execution_count": 41,
   "id": "60531dc2-59dd-46e1-be0d-13e0087c44fb",
   "metadata": {},
   "outputs": [
    {
     "data": {
      "text/plain": [
       "2.5"
      ]
     },
     "execution_count": 41,
     "metadata": {},
     "output_type": "execute_result"
    }
   ],
   "source": [
    "f8(5,2)"
   ]
  },
  {
   "cell_type": "code",
   "execution_count": 42,
   "id": "5ad32db3-d8a0-41cb-8a62-0dec3045cfc0",
   "metadata": {},
   "outputs": [
    {
     "data": {
      "text/plain": [
       "0.4"
      ]
     },
     "execution_count": 42,
     "metadata": {},
     "output_type": "execute_result"
    }
   ],
   "source": [
    "f8(2,5)"
   ]
  },
  {
   "cell_type": "code",
   "execution_count": 38,
   "id": "b73228a3-f081-4388-916a-33f6804baeae",
   "metadata": {},
   "outputs": [
    {
     "data": {
      "text/plain": [
       "2.5"
      ]
     },
     "execution_count": 38,
     "metadata": {},
     "output_type": "execute_result"
    }
   ],
   "source": [
    "f8(a=5, b=2)"
   ]
  },
  {
   "cell_type": "code",
   "execution_count": 39,
   "id": "dc9acb0c-3719-4b4c-9d00-3ad5b8380a16",
   "metadata": {},
   "outputs": [
    {
     "data": {
      "text/plain": [
       "2.5"
      ]
     },
     "execution_count": 39,
     "metadata": {},
     "output_type": "execute_result"
    }
   ],
   "source": [
    "f8(b=2,a=5)"
   ]
  },
  {
   "cell_type": "code",
   "execution_count": null,
   "id": "88cb8c72-07af-46c6-9dfd-5e8ab5de8bc0",
   "metadata": {},
   "outputs": [],
   "source": []
  },
  {
   "cell_type": "code",
   "execution_count": 26,
   "id": "473885f9-8c38-448f-b038-cda1411cd7c8",
   "metadata": {},
   "outputs": [],
   "source": [
    "def make_masala_chai(tea_leaves, milk, water, spices): \n",
    "    print(f\"Brewing masala chai with {tea_leaves}, {milk}, {water}, and {spices}.\")"
   ]
  },
  {
   "cell_type": "code",
   "execution_count": 27,
   "id": "0177ce76-1014-4503-aeb3-8eb464332b33",
   "metadata": {},
   "outputs": [
    {
     "name": "stdout",
     "output_type": "stream",
     "text": [
      "Brewing masala chai with Assam tea leaves, full-cream milk, filtered water, and cardamom.\n"
     ]
    }
   ],
   "source": [
    "make_masala_chai(\"Assam tea leaves\", \"full-cream milk\", \"filtered water\", \"cardamom\")\n"
   ]
  },
  {
   "cell_type": "code",
   "execution_count": null,
   "id": "ef65d0a7-7afd-4fcd-949f-2153efca6ef1",
   "metadata": {},
   "outputs": [],
   "source": []
  }
 ],
 "metadata": {
  "kernelspec": {
   "display_name": "Python 3 (ipykernel)",
   "language": "python",
   "name": "python3"
  },
  "language_info": {
   "codemirror_mode": {
    "name": "ipython",
    "version": 3
   },
   "file_extension": ".py",
   "mimetype": "text/x-python",
   "name": "python",
   "nbconvert_exporter": "python",
   "pygments_lexer": "ipython3",
   "version": "3.9.0"
  }
 },
 "nbformat": 4,
 "nbformat_minor": 5
}
